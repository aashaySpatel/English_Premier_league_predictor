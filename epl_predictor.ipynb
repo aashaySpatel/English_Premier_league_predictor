{
  "metadata": {
    "kernelspec": {
      "name": "python",
      "display_name": "Python (Pyodide)",
      "language": "python"
    },
    "language_info": {
      "codemirror_mode": {
        "name": "python",
        "version": 3
      },
      "file_extension": ".py",
      "mimetype": "text/x-python",
      "name": "python",
      "nbconvert_exporter": "python",
      "pygments_lexer": "ipython3",
      "version": "3.8"
    }
  },
  "nbformat_minor": 4,
  "nbformat": 4,
  "cells": [
    {
      "cell_type": "code",
      "source": "import pandas as pd",
      "metadata": {
        "trusted": true
      },
      "outputs": [
        {
          "name": "stderr",
          "text": "<ipython-input-1-7dd3504c366f>:1: DeprecationWarning: \nPyarrow will become a required dependency of pandas in the next major release of pandas (pandas 3.0),\n(to allow more performant data types, such as the Arrow string type, and better interoperability with other libraries)\nbut was not found to be installed on your system.\nIf this would cause problems for you,\nplease provide us feedback at https://github.com/pandas-dev/pandas/issues/54466\n        \n  import pandas as pd\n",
          "output_type": "stream"
        }
      ],
      "execution_count": 1
    },
    {
      "cell_type": "code",
      "source": "matches = pd.read_csv(\"matches.csv\", index_col=0)",
      "metadata": {
        "trusted": true
      },
      "outputs": [],
      "execution_count": 2
    },
    {
      "cell_type": "code",
      "source": "matches.head()",
      "metadata": {
        "trusted": true
      },
      "outputs": [
        {
          "execution_count": 3,
          "output_type": "execute_result",
          "data": {
            "text/plain": "         date   time            comp        round  day venue result   gf   ga  \\\n1  2021-08-15  16:30  Premier League  Matchweek 1  Sun  Away      L  0.0  1.0   \n2  2021-08-21  15:00  Premier League  Matchweek 2  Sat  Home      W  5.0  0.0   \n3  2021-08-28  12:30  Premier League  Matchweek 3  Sat  Home      W  5.0  0.0   \n4  2021-09-11  15:00  Premier League  Matchweek 4  Sat  Away      W  1.0  0.0   \n6  2021-09-18  15:00  Premier League  Matchweek 5  Sat  Home      D  0.0  0.0   \n\n         opponent  ...  match report  notes    sh   sot  dist   fk   pk pkatt  \\\n1       Tottenham  ...  Match Report    NaN  18.0   4.0  16.9  1.0  0.0   0.0   \n2    Norwich City  ...  Match Report    NaN  16.0   4.0  17.3  1.0  0.0   0.0   \n3         Arsenal  ...  Match Report    NaN  25.0  10.0  14.3  0.0  0.0   0.0   \n4  Leicester City  ...  Match Report    NaN  25.0   8.0  14.0  0.0  0.0   0.0   \n6     Southampton  ...  Match Report    NaN  16.0   1.0  15.7  1.0  0.0   0.0   \n\n   season             team  \n1    2022  Manchester City  \n2    2022  Manchester City  \n3    2022  Manchester City  \n4    2022  Manchester City  \n6    2022  Manchester City  \n\n[5 rows x 27 columns]",
            "text/html": "<div>\n<style scoped>\n    .dataframe tbody tr th:only-of-type {\n        vertical-align: middle;\n    }\n\n    .dataframe tbody tr th {\n        vertical-align: top;\n    }\n\n    .dataframe thead th {\n        text-align: right;\n    }\n</style>\n<table border=\"1\" class=\"dataframe\">\n  <thead>\n    <tr style=\"text-align: right;\">\n      <th></th>\n      <th>date</th>\n      <th>time</th>\n      <th>comp</th>\n      <th>round</th>\n      <th>day</th>\n      <th>venue</th>\n      <th>result</th>\n      <th>gf</th>\n      <th>ga</th>\n      <th>opponent</th>\n      <th>...</th>\n      <th>match report</th>\n      <th>notes</th>\n      <th>sh</th>\n      <th>sot</th>\n      <th>dist</th>\n      <th>fk</th>\n      <th>pk</th>\n      <th>pkatt</th>\n      <th>season</th>\n      <th>team</th>\n    </tr>\n  </thead>\n  <tbody>\n    <tr>\n      <th>1</th>\n      <td>2021-08-15</td>\n      <td>16:30</td>\n      <td>Premier League</td>\n      <td>Matchweek 1</td>\n      <td>Sun</td>\n      <td>Away</td>\n      <td>L</td>\n      <td>0.0</td>\n      <td>1.0</td>\n      <td>Tottenham</td>\n      <td>...</td>\n      <td>Match Report</td>\n      <td>NaN</td>\n      <td>18.0</td>\n      <td>4.0</td>\n      <td>16.9</td>\n      <td>1.0</td>\n      <td>0.0</td>\n      <td>0.0</td>\n      <td>2022</td>\n      <td>Manchester City</td>\n    </tr>\n    <tr>\n      <th>2</th>\n      <td>2021-08-21</td>\n      <td>15:00</td>\n      <td>Premier League</td>\n      <td>Matchweek 2</td>\n      <td>Sat</td>\n      <td>Home</td>\n      <td>W</td>\n      <td>5.0</td>\n      <td>0.0</td>\n      <td>Norwich City</td>\n      <td>...</td>\n      <td>Match Report</td>\n      <td>NaN</td>\n      <td>16.0</td>\n      <td>4.0</td>\n      <td>17.3</td>\n      <td>1.0</td>\n      <td>0.0</td>\n      <td>0.0</td>\n      <td>2022</td>\n      <td>Manchester City</td>\n    </tr>\n    <tr>\n      <th>3</th>\n      <td>2021-08-28</td>\n      <td>12:30</td>\n      <td>Premier League</td>\n      <td>Matchweek 3</td>\n      <td>Sat</td>\n      <td>Home</td>\n      <td>W</td>\n      <td>5.0</td>\n      <td>0.0</td>\n      <td>Arsenal</td>\n      <td>...</td>\n      <td>Match Report</td>\n      <td>NaN</td>\n      <td>25.0</td>\n      <td>10.0</td>\n      <td>14.3</td>\n      <td>0.0</td>\n      <td>0.0</td>\n      <td>0.0</td>\n      <td>2022</td>\n      <td>Manchester City</td>\n    </tr>\n    <tr>\n      <th>4</th>\n      <td>2021-09-11</td>\n      <td>15:00</td>\n      <td>Premier League</td>\n      <td>Matchweek 4</td>\n      <td>Sat</td>\n      <td>Away</td>\n      <td>W</td>\n      <td>1.0</td>\n      <td>0.0</td>\n      <td>Leicester City</td>\n      <td>...</td>\n      <td>Match Report</td>\n      <td>NaN</td>\n      <td>25.0</td>\n      <td>8.0</td>\n      <td>14.0</td>\n      <td>0.0</td>\n      <td>0.0</td>\n      <td>0.0</td>\n      <td>2022</td>\n      <td>Manchester City</td>\n    </tr>\n    <tr>\n      <th>6</th>\n      <td>2021-09-18</td>\n      <td>15:00</td>\n      <td>Premier League</td>\n      <td>Matchweek 5</td>\n      <td>Sat</td>\n      <td>Home</td>\n      <td>D</td>\n      <td>0.0</td>\n      <td>0.0</td>\n      <td>Southampton</td>\n      <td>...</td>\n      <td>Match Report</td>\n      <td>NaN</td>\n      <td>16.0</td>\n      <td>1.0</td>\n      <td>15.7</td>\n      <td>1.0</td>\n      <td>0.0</td>\n      <td>0.0</td>\n      <td>2022</td>\n      <td>Manchester City</td>\n    </tr>\n  </tbody>\n</table>\n<p>5 rows × 27 columns</p>\n</div>"
          },
          "metadata": {}
        }
      ],
      "execution_count": 3
    },
    {
      "cell_type": "code",
      "source": "matches.dtypes",
      "metadata": {
        "trusted": true
      },
      "outputs": [
        {
          "execution_count": 4,
          "output_type": "execute_result",
          "data": {
            "text/plain": "date             object\ntime             object\ncomp             object\nround            object\nday              object\nvenue            object\nresult           object\ngf              float64\nga              float64\nopponent         object\nxg              float64\nxga             float64\nposs            float64\nattendance      float64\ncaptain          object\nformation        object\nreferee          object\nmatch report     object\nnotes           float64\nsh              float64\nsot             float64\ndist            float64\nfk              float64\npk              float64\npkatt           float64\nseason            int64\nteam             object\ndtype: object"
          },
          "metadata": {}
        }
      ],
      "execution_count": 4
    },
    {
      "cell_type": "code",
      "source": "matches[\"date\"] = pd.to_datetime(matches[\"date\"]) #converting date column (object) to datetime (float64) ",
      "metadata": {
        "trusted": true
      },
      "outputs": [],
      "execution_count": 5
    },
    {
      "cell_type": "code",
      "source": "matches.dtypes",
      "metadata": {
        "trusted": true
      },
      "outputs": [
        {
          "execution_count": 6,
          "output_type": "execute_result",
          "data": {
            "text/plain": "date            datetime64[ns]\ntime                    object\ncomp                    object\nround                   object\nday                     object\nvenue                   object\nresult                  object\ngf                     float64\nga                     float64\nopponent                object\nxg                     float64\nxga                    float64\nposs                   float64\nattendance             float64\ncaptain                 object\nformation               object\nreferee                 object\nmatch report            object\nnotes                  float64\nsh                     float64\nsot                    float64\ndist                   float64\nfk                     float64\npk                     float64\npkatt                  float64\nseason                   int64\nteam                    object\ndtype: object"
          },
          "metadata": {}
        }
      ],
      "execution_count": 6
    },
    {
      "cell_type": "code",
      "source": "#here we are creating the predictor columns that are going to be used to predict the outcome of the games",
      "metadata": {
        "trusted": true
      },
      "outputs": [],
      "execution_count": 7
    },
    {
      "cell_type": "code",
      "source": "matches[\"venue_code\"] = matches[\"venue\"].astype(\"category\").cat.codes #converts venue_code (object) to categorical type || .cat.codes converts the values to integers",
      "metadata": {
        "trusted": true
      },
      "outputs": [],
      "execution_count": 8
    },
    {
      "cell_type": "code",
      "source": "matches[\"opp_code\"] = matches[\"opponent\"].astype(\"category\").cat.codes #creates column called opp_code to give opponent team a unique code",
      "metadata": {
        "trusted": true
      },
      "outputs": [],
      "execution_count": 9
    },
    {
      "cell_type": "code",
      "source": "matches[\"hour\"] = matches[\"time\"].str.replace(\":.+\",\"\",regex=True).astype(\"int\") #what if teams play better at certain hours: need to keep track of this by droping the minutes and ':' in the time column",
      "metadata": {
        "trusted": true
      },
      "outputs": [],
      "execution_count": 10
    },
    {
      "cell_type": "code",
      "source": "matches[\"day_code\"] = matches[\"date\"].dt.dayofweek",
      "metadata": {
        "trusted": true
      },
      "outputs": [],
      "execution_count": 11
    },
    {
      "cell_type": "code",
      "source": "#setting up machine model",
      "metadata": {
        "trusted": true
      },
      "outputs": [],
      "execution_count": 12
    },
    {
      "cell_type": "code",
      "source": "matches[\"target\"] = (matches[\"result\"] == \"W\")",
      "metadata": {
        "trusted": true
      },
      "outputs": [],
      "execution_count": 13
    },
    {
      "cell_type": "code",
      "source": "from sklearn.ensemble import RandomForestClassifier",
      "metadata": {
        "trusted": true
      },
      "outputs": [],
      "execution_count": 14
    },
    {
      "cell_type": "code",
      "source": "rf = RandomForestClassifier(n_estimators=50,min_samples_split=10, random_state=1)",
      "metadata": {
        "trusted": true
      },
      "outputs": [],
      "execution_count": 15
    },
    {
      "cell_type": "code",
      "source": "train = matches[matches[\"date\"] < '2022-01-01']",
      "metadata": {
        "trusted": true
      },
      "outputs": [],
      "execution_count": 16
    },
    {
      "cell_type": "code",
      "source": "test = matches[matches[\"date\"] > '2022-01-01']",
      "metadata": {
        "trusted": true
      },
      "outputs": [],
      "execution_count": 17
    },
    {
      "cell_type": "code",
      "source": "predictors = [\"venue_code\", \"opp_code\", \"hour\", \"day_code\"]",
      "metadata": {
        "trusted": true
      },
      "outputs": [],
      "execution_count": 18
    },
    {
      "cell_type": "code",
      "source": "rf.fit(train[predictors],train[\"target\"])",
      "metadata": {
        "trusted": true
      },
      "outputs": [
        {
          "execution_count": 19,
          "output_type": "execute_result",
          "data": {
            "text/plain": "RandomForestClassifier(min_samples_split=10, n_estimators=50, random_state=1)",
            "text/html": "<style>#sk-container-id-1 {\n  /* Definition of color scheme common for light and dark mode */\n  --sklearn-color-text: black;\n  --sklearn-color-line: gray;\n  /* Definition of color scheme for unfitted estimators */\n  --sklearn-color-unfitted-level-0: #fff5e6;\n  --sklearn-color-unfitted-level-1: #f6e4d2;\n  --sklearn-color-unfitted-level-2: #ffe0b3;\n  --sklearn-color-unfitted-level-3: chocolate;\n  /* Definition of color scheme for fitted estimators */\n  --sklearn-color-fitted-level-0: #f0f8ff;\n  --sklearn-color-fitted-level-1: #d4ebff;\n  --sklearn-color-fitted-level-2: #b3dbfd;\n  --sklearn-color-fitted-level-3: cornflowerblue;\n\n  /* Specific color for light theme */\n  --sklearn-color-text-on-default-background: var(--sg-text-color, var(--theme-code-foreground, var(--jp-content-font-color1, black)));\n  --sklearn-color-background: var(--sg-background-color, var(--theme-background, var(--jp-layout-color0, white)));\n  --sklearn-color-border-box: var(--sg-text-color, var(--theme-code-foreground, var(--jp-content-font-color1, black)));\n  --sklearn-color-icon: #696969;\n\n  @media (prefers-color-scheme: dark) {\n    /* Redefinition of color scheme for dark theme */\n    --sklearn-color-text-on-default-background: var(--sg-text-color, var(--theme-code-foreground, var(--jp-content-font-color1, white)));\n    --sklearn-color-background: var(--sg-background-color, var(--theme-background, var(--jp-layout-color0, #111)));\n    --sklearn-color-border-box: var(--sg-text-color, var(--theme-code-foreground, var(--jp-content-font-color1, white)));\n    --sklearn-color-icon: #878787;\n  }\n}\n\n#sk-container-id-1 {\n  color: var(--sklearn-color-text);\n}\n\n#sk-container-id-1 pre {\n  padding: 0;\n}\n\n#sk-container-id-1 input.sk-hidden--visually {\n  border: 0;\n  clip: rect(1px 1px 1px 1px);\n  clip: rect(1px, 1px, 1px, 1px);\n  height: 1px;\n  margin: -1px;\n  overflow: hidden;\n  padding: 0;\n  position: absolute;\n  width: 1px;\n}\n\n#sk-container-id-1 div.sk-dashed-wrapped {\n  border: 1px dashed var(--sklearn-color-line);\n  margin: 0 0.4em 0.5em 0.4em;\n  box-sizing: border-box;\n  padding-bottom: 0.4em;\n  background-color: var(--sklearn-color-background);\n}\n\n#sk-container-id-1 div.sk-container {\n  /* jupyter's `normalize.less` sets `[hidden] { display: none; }`\n     but bootstrap.min.css set `[hidden] { display: none !important; }`\n     so we also need the `!important` here to be able to override the\n     default hidden behavior on the sphinx rendered scikit-learn.org.\n     See: https://github.com/scikit-learn/scikit-learn/issues/21755 */\n  display: inline-block !important;\n  position: relative;\n}\n\n#sk-container-id-1 div.sk-text-repr-fallback {\n  display: none;\n}\n\ndiv.sk-parallel-item,\ndiv.sk-serial,\ndiv.sk-item {\n  /* draw centered vertical line to link estimators */\n  background-image: linear-gradient(var(--sklearn-color-text-on-default-background), var(--sklearn-color-text-on-default-background));\n  background-size: 2px 100%;\n  background-repeat: no-repeat;\n  background-position: center center;\n}\n\n/* Parallel-specific style estimator block */\n\n#sk-container-id-1 div.sk-parallel-item::after {\n  content: \"\";\n  width: 100%;\n  border-bottom: 2px solid var(--sklearn-color-text-on-default-background);\n  flex-grow: 1;\n}\n\n#sk-container-id-1 div.sk-parallel {\n  display: flex;\n  align-items: stretch;\n  justify-content: center;\n  background-color: var(--sklearn-color-background);\n  position: relative;\n}\n\n#sk-container-id-1 div.sk-parallel-item {\n  display: flex;\n  flex-direction: column;\n}\n\n#sk-container-id-1 div.sk-parallel-item:first-child::after {\n  align-self: flex-end;\n  width: 50%;\n}\n\n#sk-container-id-1 div.sk-parallel-item:last-child::after {\n  align-self: flex-start;\n  width: 50%;\n}\n\n#sk-container-id-1 div.sk-parallel-item:only-child::after {\n  width: 0;\n}\n\n/* Serial-specific style estimator block */\n\n#sk-container-id-1 div.sk-serial {\n  display: flex;\n  flex-direction: column;\n  align-items: center;\n  background-color: var(--sklearn-color-background);\n  padding-right: 1em;\n  padding-left: 1em;\n}\n\n\n/* Toggleable style: style used for estimator/Pipeline/ColumnTransformer box that is\nclickable and can be expanded/collapsed.\n- Pipeline and ColumnTransformer use this feature and define the default style\n- Estimators will overwrite some part of the style using the `sk-estimator` class\n*/\n\n/* Pipeline and ColumnTransformer style (default) */\n\n#sk-container-id-1 div.sk-toggleable {\n  /* Default theme specific background. It is overwritten whether we have a\n  specific estimator or a Pipeline/ColumnTransformer */\n  background-color: var(--sklearn-color-background);\n}\n\n/* Toggleable label */\n#sk-container-id-1 label.sk-toggleable__label {\n  cursor: pointer;\n  display: block;\n  width: 100%;\n  margin-bottom: 0;\n  padding: 0.5em;\n  box-sizing: border-box;\n  text-align: center;\n}\n\n#sk-container-id-1 label.sk-toggleable__label-arrow:before {\n  /* Arrow on the left of the label */\n  content: \"▸\";\n  float: left;\n  margin-right: 0.25em;\n  color: var(--sklearn-color-icon);\n}\n\n#sk-container-id-1 label.sk-toggleable__label-arrow:hover:before {\n  color: var(--sklearn-color-text);\n}\n\n/* Toggleable content - dropdown */\n\n#sk-container-id-1 div.sk-toggleable__content {\n  max-height: 0;\n  max-width: 0;\n  overflow: hidden;\n  text-align: left;\n  /* unfitted */\n  background-color: var(--sklearn-color-unfitted-level-0);\n}\n\n#sk-container-id-1 div.sk-toggleable__content.fitted {\n  /* fitted */\n  background-color: var(--sklearn-color-fitted-level-0);\n}\n\n#sk-container-id-1 div.sk-toggleable__content pre {\n  margin: 0.2em;\n  border-radius: 0.25em;\n  color: var(--sklearn-color-text);\n  /* unfitted */\n  background-color: var(--sklearn-color-unfitted-level-0);\n}\n\n#sk-container-id-1 div.sk-toggleable__content.fitted pre {\n  /* unfitted */\n  background-color: var(--sklearn-color-fitted-level-0);\n}\n\n#sk-container-id-1 input.sk-toggleable__control:checked~div.sk-toggleable__content {\n  /* Expand drop-down */\n  max-height: 200px;\n  max-width: 100%;\n  overflow: auto;\n}\n\n#sk-container-id-1 input.sk-toggleable__control:checked~label.sk-toggleable__label-arrow:before {\n  content: \"▾\";\n}\n\n/* Pipeline/ColumnTransformer-specific style */\n\n#sk-container-id-1 div.sk-label input.sk-toggleable__control:checked~label.sk-toggleable__label {\n  color: var(--sklearn-color-text);\n  background-color: var(--sklearn-color-unfitted-level-2);\n}\n\n#sk-container-id-1 div.sk-label.fitted input.sk-toggleable__control:checked~label.sk-toggleable__label {\n  background-color: var(--sklearn-color-fitted-level-2);\n}\n\n/* Estimator-specific style */\n\n/* Colorize estimator box */\n#sk-container-id-1 div.sk-estimator input.sk-toggleable__control:checked~label.sk-toggleable__label {\n  /* unfitted */\n  background-color: var(--sklearn-color-unfitted-level-2);\n}\n\n#sk-container-id-1 div.sk-estimator.fitted input.sk-toggleable__control:checked~label.sk-toggleable__label {\n  /* fitted */\n  background-color: var(--sklearn-color-fitted-level-2);\n}\n\n#sk-container-id-1 div.sk-label label.sk-toggleable__label,\n#sk-container-id-1 div.sk-label label {\n  /* The background is the default theme color */\n  color: var(--sklearn-color-text-on-default-background);\n}\n\n/* On hover, darken the color of the background */\n#sk-container-id-1 div.sk-label:hover label.sk-toggleable__label {\n  color: var(--sklearn-color-text);\n  background-color: var(--sklearn-color-unfitted-level-2);\n}\n\n/* Label box, darken color on hover, fitted */\n#sk-container-id-1 div.sk-label.fitted:hover label.sk-toggleable__label.fitted {\n  color: var(--sklearn-color-text);\n  background-color: var(--sklearn-color-fitted-level-2);\n}\n\n/* Estimator label */\n\n#sk-container-id-1 div.sk-label label {\n  font-family: monospace;\n  font-weight: bold;\n  display: inline-block;\n  line-height: 1.2em;\n}\n\n#sk-container-id-1 div.sk-label-container {\n  text-align: center;\n}\n\n/* Estimator-specific */\n#sk-container-id-1 div.sk-estimator {\n  font-family: monospace;\n  border: 1px dotted var(--sklearn-color-border-box);\n  border-radius: 0.25em;\n  box-sizing: border-box;\n  margin-bottom: 0.5em;\n  /* unfitted */\n  background-color: var(--sklearn-color-unfitted-level-0);\n}\n\n#sk-container-id-1 div.sk-estimator.fitted {\n  /* fitted */\n  background-color: var(--sklearn-color-fitted-level-0);\n}\n\n/* on hover */\n#sk-container-id-1 div.sk-estimator:hover {\n  /* unfitted */\n  background-color: var(--sklearn-color-unfitted-level-2);\n}\n\n#sk-container-id-1 div.sk-estimator.fitted:hover {\n  /* fitted */\n  background-color: var(--sklearn-color-fitted-level-2);\n}\n\n/* Specification for estimator info (e.g. \"i\" and \"?\") */\n\n/* Common style for \"i\" and \"?\" */\n\n.sk-estimator-doc-link,\na:link.sk-estimator-doc-link,\na:visited.sk-estimator-doc-link {\n  float: right;\n  font-size: smaller;\n  line-height: 1em;\n  font-family: monospace;\n  background-color: var(--sklearn-color-background);\n  border-radius: 1em;\n  height: 1em;\n  width: 1em;\n  text-decoration: none !important;\n  margin-left: 1ex;\n  /* unfitted */\n  border: var(--sklearn-color-unfitted-level-1) 1pt solid;\n  color: var(--sklearn-color-unfitted-level-1);\n}\n\n.sk-estimator-doc-link.fitted,\na:link.sk-estimator-doc-link.fitted,\na:visited.sk-estimator-doc-link.fitted {\n  /* fitted */\n  border: var(--sklearn-color-fitted-level-1) 1pt solid;\n  color: var(--sklearn-color-fitted-level-1);\n}\n\n/* On hover */\ndiv.sk-estimator:hover .sk-estimator-doc-link:hover,\n.sk-estimator-doc-link:hover,\ndiv.sk-label-container:hover .sk-estimator-doc-link:hover,\n.sk-estimator-doc-link:hover {\n  /* unfitted */\n  background-color: var(--sklearn-color-unfitted-level-3);\n  color: var(--sklearn-color-background);\n  text-decoration: none;\n}\n\ndiv.sk-estimator.fitted:hover .sk-estimator-doc-link.fitted:hover,\n.sk-estimator-doc-link.fitted:hover,\ndiv.sk-label-container:hover .sk-estimator-doc-link.fitted:hover,\n.sk-estimator-doc-link.fitted:hover {\n  /* fitted */\n  background-color: var(--sklearn-color-fitted-level-3);\n  color: var(--sklearn-color-background);\n  text-decoration: none;\n}\n\n/* Span, style for the box shown on hovering the info icon */\n.sk-estimator-doc-link span {\n  display: none;\n  z-index: 9999;\n  position: relative;\n  font-weight: normal;\n  right: .2ex;\n  padding: .5ex;\n  margin: .5ex;\n  width: min-content;\n  min-width: 20ex;\n  max-width: 50ex;\n  color: var(--sklearn-color-text);\n  box-shadow: 2pt 2pt 4pt #999;\n  /* unfitted */\n  background: var(--sklearn-color-unfitted-level-0);\n  border: .5pt solid var(--sklearn-color-unfitted-level-3);\n}\n\n.sk-estimator-doc-link.fitted span {\n  /* fitted */\n  background: var(--sklearn-color-fitted-level-0);\n  border: var(--sklearn-color-fitted-level-3);\n}\n\n.sk-estimator-doc-link:hover span {\n  display: block;\n}\n\n/* \"?\"-specific style due to the `<a>` HTML tag */\n\n#sk-container-id-1 a.estimator_doc_link {\n  float: right;\n  font-size: 1rem;\n  line-height: 1em;\n  font-family: monospace;\n  background-color: var(--sklearn-color-background);\n  border-radius: 1rem;\n  height: 1rem;\n  width: 1rem;\n  text-decoration: none;\n  /* unfitted */\n  color: var(--sklearn-color-unfitted-level-1);\n  border: var(--sklearn-color-unfitted-level-1) 1pt solid;\n}\n\n#sk-container-id-1 a.estimator_doc_link.fitted {\n  /* fitted */\n  border: var(--sklearn-color-fitted-level-1) 1pt solid;\n  color: var(--sklearn-color-fitted-level-1);\n}\n\n/* On hover */\n#sk-container-id-1 a.estimator_doc_link:hover {\n  /* unfitted */\n  background-color: var(--sklearn-color-unfitted-level-3);\n  color: var(--sklearn-color-background);\n  text-decoration: none;\n}\n\n#sk-container-id-1 a.estimator_doc_link.fitted:hover {\n  /* fitted */\n  background-color: var(--sklearn-color-fitted-level-3);\n}\n</style><div id=\"sk-container-id-1\" class=\"sk-top-container\"><div class=\"sk-text-repr-fallback\"><pre>RandomForestClassifier(min_samples_split=10, n_estimators=50, random_state=1)</pre><b>In a Jupyter environment, please rerun this cell to show the HTML representation or trust the notebook. <br />On GitHub, the HTML representation is unable to render, please try loading this page with nbviewer.org.</b></div><div class=\"sk-container\" hidden><div class=\"sk-item\"><div class=\"sk-estimator fitted sk-toggleable\"><input class=\"sk-toggleable__control sk-hidden--visually\" id=\"sk-estimator-id-1\" type=\"checkbox\" checked><label for=\"sk-estimator-id-1\" class=\"sk-toggleable__label fitted sk-toggleable__label-arrow fitted\">&nbsp;&nbsp;RandomForestClassifier<a class=\"sk-estimator-doc-link fitted\" rel=\"noreferrer\" target=\"_blank\" href=\"https://scikit-learn.org/1.4/modules/generated/sklearn.ensemble.RandomForestClassifier.html\">?<span>Documentation for RandomForestClassifier</span></a><span class=\"sk-estimator-doc-link fitted\">i<span>Fitted</span></span></label><div class=\"sk-toggleable__content fitted\"><pre>RandomForestClassifier(min_samples_split=10, n_estimators=50, random_state=1)</pre></div> </div></div></div></div>"
          },
          "metadata": {}
        }
      ],
      "execution_count": 19
    },
    {
      "cell_type": "code",
      "source": "preds = rf.predict(test[predictors])",
      "metadata": {
        "trusted": true
      },
      "outputs": [],
      "execution_count": 20
    },
    {
      "cell_type": "code",
      "source": "#determine accuracy of model\nfrom sklearn.metrics import accuracy_score #if you predict 'W' what % of time did the team actually win; if predict 'L' what % of time did the team actually lose",
      "metadata": {
        "trusted": true
      },
      "outputs": [],
      "execution_count": 21
    },
    {
      "cell_type": "code",
      "source": "acc = accuracy_score(test[\"target\"],preds)",
      "metadata": {
        "trusted": true
      },
      "outputs": [],
      "execution_count": 22
    },
    {
      "cell_type": "code",
      "source": "acc",
      "metadata": {
        "trusted": true
      },
      "outputs": [
        {
          "execution_count": 23,
          "output_type": "execute_result",
          "data": {
            "text/plain": "0.6123188405797102"
          },
          "metadata": {}
        }
      ],
      "execution_count": 23
    },
    {
      "cell_type": "code",
      "source": "#now we can look into which situations was our accuracy high verus low",
      "metadata": {
        "trusted": true
      },
      "outputs": [],
      "execution_count": 24
    },
    {
      "cell_type": "code",
      "source": "combined = pd.DataFrame(dict(actual=test[\"target\"],prediction=preds))",
      "metadata": {
        "trusted": true
      },
      "outputs": [],
      "execution_count": 25
    },
    {
      "cell_type": "code",
      "source": "pd.crosstab(index=combined[\"actual\"], columns=combined[\"prediction\"])  #crosstab is being used to show us when we predicted a false or true  to what actually happened",
      "metadata": {
        "trusted": true
      },
      "outputs": [
        {
          "execution_count": 26,
          "output_type": "execute_result",
          "data": {
            "text/plain": "prediction  False  True \nactual                  \nFalse         141     31\nTrue           76     28",
            "text/html": "<div>\n<style scoped>\n    .dataframe tbody tr th:only-of-type {\n        vertical-align: middle;\n    }\n\n    .dataframe tbody tr th {\n        vertical-align: top;\n    }\n\n    .dataframe thead th {\n        text-align: right;\n    }\n</style>\n<table border=\"1\" class=\"dataframe\">\n  <thead>\n    <tr style=\"text-align: right;\">\n      <th>prediction</th>\n      <th>False</th>\n      <th>True</th>\n    </tr>\n    <tr>\n      <th>actual</th>\n      <th></th>\n      <th></th>\n    </tr>\n  </thead>\n  <tbody>\n    <tr>\n      <th>False</th>\n      <td>141</td>\n      <td>31</td>\n    </tr>\n    <tr>\n      <th>True</th>\n      <td>76</td>\n      <td>28</td>\n    </tr>\n  </tbody>\n</table>\n</div>"
          },
          "metadata": {}
        }
      ],
      "execution_count": 26
    },
    {
      "cell_type": "code",
      "source": "#model is predicting more incorrectly than correctly when the prediction s 'true', therefore revising accuracy metric is necessary",
      "metadata": {
        "trusted": true
      },
      "outputs": [],
      "execution_count": 27
    },
    {
      "cell_type": "code",
      "source": "from sklearn.metrics import precision_score #this is gonna tell us that when the model predicts a win, what % of the time was the actual result a win",
      "metadata": {
        "trusted": true
      },
      "outputs": [],
      "execution_count": 28
    },
    {
      "cell_type": "code",
      "source": "precision_score(test[\"target\"],preds) #47% of the time the predcition was correct (BEFORE)",
      "metadata": {
        "trusted": true
      },
      "outputs": [
        {
          "execution_count": 29,
          "output_type": "execute_result",
          "data": {
            "text/plain": "0.4745762711864407"
          },
          "metadata": {}
        }
      ],
      "execution_count": 29
    },
    {
      "cell_type": "code",
      "source": "#more predictors",
      "metadata": {
        "trusted": true
      },
      "outputs": [],
      "execution_count": 30
    },
    {
      "cell_type": "code",
      "source": "grouped_matches = matches.groupby(\"team\") #group matches by teams",
      "metadata": {
        "trusted": true
      },
      "outputs": [],
      "execution_count": 31
    },
    {
      "cell_type": "code",
      "source": "group = grouped_matches.get_group(\"Manchester City\") #example of how matches are grouped",
      "metadata": {
        "trusted": true
      },
      "outputs": [],
      "execution_count": 32
    },
    {
      "cell_type": "code",
      "source": "group",
      "metadata": {
        "trusted": true
      },
      "outputs": [
        {
          "execution_count": 33,
          "output_type": "execute_result",
          "data": {
            "text/plain": "         date   time            comp         round  day venue result   gf  \\\n1  2021-08-15  16:30  Premier League   Matchweek 1  Sun  Away      L  0.0   \n2  2021-08-21  15:00  Premier League   Matchweek 2  Sat  Home      W  5.0   \n3  2021-08-28  12:30  Premier League   Matchweek 3  Sat  Home      W  5.0   \n4  2021-09-11  15:00  Premier League   Matchweek 4  Sat  Away      W  1.0   \n6  2021-09-18  15:00  Premier League   Matchweek 5  Sat  Home      D  0.0   \n..        ...    ...             ...           ...  ...   ...    ...  ...   \n54 2021-05-01  12:30  Premier League  Matchweek 34  Sat  Away      W  2.0   \n56 2021-05-08  17:30  Premier League  Matchweek 35  Sat  Home      L  1.0   \n57 2021-05-14  20:00  Premier League  Matchweek 36  Fri  Away      W  4.0   \n58 2021-05-18  19:00  Premier League  Matchweek 37  Tue  Away      L  2.0   \n59 2021-05-23  16:00  Premier League  Matchweek 38  Sun  Home      W  5.0   \n\n     ga        opponent  ...   fk   pk  pkatt  season             team  \\\n1   1.0       Tottenham  ...  1.0  0.0    0.0    2022  Manchester City   \n2   0.0    Norwich City  ...  1.0  0.0    0.0    2022  Manchester City   \n3   0.0         Arsenal  ...  0.0  0.0    0.0    2022  Manchester City   \n4   0.0  Leicester City  ...  0.0  0.0    0.0    2022  Manchester City   \n6   0.0     Southampton  ...  1.0  0.0    0.0    2022  Manchester City   \n..  ...             ...  ...  ...  ...    ...     ...              ...   \n54  0.0  Crystal Palace  ...  1.0  0.0    0.0    2021  Manchester City   \n56  2.0         Chelsea  ...  0.0  0.0    1.0    2021  Manchester City   \n57  3.0   Newcastle Utd  ...  1.0  0.0    0.0    2021  Manchester City   \n58  3.0        Brighton  ...  1.0  0.0    0.0    2021  Manchester City   \n59  0.0         Everton  ...  0.0  0.0    0.0    2021  Manchester City   \n\n   venue_code opp_code hour  day_code  target  \n1           0       18   16         6   False  \n2           1       15   15         5    True  \n3           1        0   12         5    True  \n4           0       10   15         5    True  \n6           1       17   15         5   False  \n..        ...      ...  ...       ...     ...  \n54          0        6   12         5    True  \n56          1        5   17         5   False  \n57          0       14   20         4    True  \n58          0        3   19         1   False  \n59          1        7   16         6    True  \n\n[71 rows x 32 columns]",
            "text/html": "<div>\n<style scoped>\n    .dataframe tbody tr th:only-of-type {\n        vertical-align: middle;\n    }\n\n    .dataframe tbody tr th {\n        vertical-align: top;\n    }\n\n    .dataframe thead th {\n        text-align: right;\n    }\n</style>\n<table border=\"1\" class=\"dataframe\">\n  <thead>\n    <tr style=\"text-align: right;\">\n      <th></th>\n      <th>date</th>\n      <th>time</th>\n      <th>comp</th>\n      <th>round</th>\n      <th>day</th>\n      <th>venue</th>\n      <th>result</th>\n      <th>gf</th>\n      <th>ga</th>\n      <th>opponent</th>\n      <th>...</th>\n      <th>fk</th>\n      <th>pk</th>\n      <th>pkatt</th>\n      <th>season</th>\n      <th>team</th>\n      <th>venue_code</th>\n      <th>opp_code</th>\n      <th>hour</th>\n      <th>day_code</th>\n      <th>target</th>\n    </tr>\n  </thead>\n  <tbody>\n    <tr>\n      <th>1</th>\n      <td>2021-08-15</td>\n      <td>16:30</td>\n      <td>Premier League</td>\n      <td>Matchweek 1</td>\n      <td>Sun</td>\n      <td>Away</td>\n      <td>L</td>\n      <td>0.0</td>\n      <td>1.0</td>\n      <td>Tottenham</td>\n      <td>...</td>\n      <td>1.0</td>\n      <td>0.0</td>\n      <td>0.0</td>\n      <td>2022</td>\n      <td>Manchester City</td>\n      <td>0</td>\n      <td>18</td>\n      <td>16</td>\n      <td>6</td>\n      <td>False</td>\n    </tr>\n    <tr>\n      <th>2</th>\n      <td>2021-08-21</td>\n      <td>15:00</td>\n      <td>Premier League</td>\n      <td>Matchweek 2</td>\n      <td>Sat</td>\n      <td>Home</td>\n      <td>W</td>\n      <td>5.0</td>\n      <td>0.0</td>\n      <td>Norwich City</td>\n      <td>...</td>\n      <td>1.0</td>\n      <td>0.0</td>\n      <td>0.0</td>\n      <td>2022</td>\n      <td>Manchester City</td>\n      <td>1</td>\n      <td>15</td>\n      <td>15</td>\n      <td>5</td>\n      <td>True</td>\n    </tr>\n    <tr>\n      <th>3</th>\n      <td>2021-08-28</td>\n      <td>12:30</td>\n      <td>Premier League</td>\n      <td>Matchweek 3</td>\n      <td>Sat</td>\n      <td>Home</td>\n      <td>W</td>\n      <td>5.0</td>\n      <td>0.0</td>\n      <td>Arsenal</td>\n      <td>...</td>\n      <td>0.0</td>\n      <td>0.0</td>\n      <td>0.0</td>\n      <td>2022</td>\n      <td>Manchester City</td>\n      <td>1</td>\n      <td>0</td>\n      <td>12</td>\n      <td>5</td>\n      <td>True</td>\n    </tr>\n    <tr>\n      <th>4</th>\n      <td>2021-09-11</td>\n      <td>15:00</td>\n      <td>Premier League</td>\n      <td>Matchweek 4</td>\n      <td>Sat</td>\n      <td>Away</td>\n      <td>W</td>\n      <td>1.0</td>\n      <td>0.0</td>\n      <td>Leicester City</td>\n      <td>...</td>\n      <td>0.0</td>\n      <td>0.0</td>\n      <td>0.0</td>\n      <td>2022</td>\n      <td>Manchester City</td>\n      <td>0</td>\n      <td>10</td>\n      <td>15</td>\n      <td>5</td>\n      <td>True</td>\n    </tr>\n    <tr>\n      <th>6</th>\n      <td>2021-09-18</td>\n      <td>15:00</td>\n      <td>Premier League</td>\n      <td>Matchweek 5</td>\n      <td>Sat</td>\n      <td>Home</td>\n      <td>D</td>\n      <td>0.0</td>\n      <td>0.0</td>\n      <td>Southampton</td>\n      <td>...</td>\n      <td>1.0</td>\n      <td>0.0</td>\n      <td>0.0</td>\n      <td>2022</td>\n      <td>Manchester City</td>\n      <td>1</td>\n      <td>17</td>\n      <td>15</td>\n      <td>5</td>\n      <td>False</td>\n    </tr>\n    <tr>\n      <th>...</th>\n      <td>...</td>\n      <td>...</td>\n      <td>...</td>\n      <td>...</td>\n      <td>...</td>\n      <td>...</td>\n      <td>...</td>\n      <td>...</td>\n      <td>...</td>\n      <td>...</td>\n      <td>...</td>\n      <td>...</td>\n      <td>...</td>\n      <td>...</td>\n      <td>...</td>\n      <td>...</td>\n      <td>...</td>\n      <td>...</td>\n      <td>...</td>\n      <td>...</td>\n      <td>...</td>\n    </tr>\n    <tr>\n      <th>54</th>\n      <td>2021-05-01</td>\n      <td>12:30</td>\n      <td>Premier League</td>\n      <td>Matchweek 34</td>\n      <td>Sat</td>\n      <td>Away</td>\n      <td>W</td>\n      <td>2.0</td>\n      <td>0.0</td>\n      <td>Crystal Palace</td>\n      <td>...</td>\n      <td>1.0</td>\n      <td>0.0</td>\n      <td>0.0</td>\n      <td>2021</td>\n      <td>Manchester City</td>\n      <td>0</td>\n      <td>6</td>\n      <td>12</td>\n      <td>5</td>\n      <td>True</td>\n    </tr>\n    <tr>\n      <th>56</th>\n      <td>2021-05-08</td>\n      <td>17:30</td>\n      <td>Premier League</td>\n      <td>Matchweek 35</td>\n      <td>Sat</td>\n      <td>Home</td>\n      <td>L</td>\n      <td>1.0</td>\n      <td>2.0</td>\n      <td>Chelsea</td>\n      <td>...</td>\n      <td>0.0</td>\n      <td>0.0</td>\n      <td>1.0</td>\n      <td>2021</td>\n      <td>Manchester City</td>\n      <td>1</td>\n      <td>5</td>\n      <td>17</td>\n      <td>5</td>\n      <td>False</td>\n    </tr>\n    <tr>\n      <th>57</th>\n      <td>2021-05-14</td>\n      <td>20:00</td>\n      <td>Premier League</td>\n      <td>Matchweek 36</td>\n      <td>Fri</td>\n      <td>Away</td>\n      <td>W</td>\n      <td>4.0</td>\n      <td>3.0</td>\n      <td>Newcastle Utd</td>\n      <td>...</td>\n      <td>1.0</td>\n      <td>0.0</td>\n      <td>0.0</td>\n      <td>2021</td>\n      <td>Manchester City</td>\n      <td>0</td>\n      <td>14</td>\n      <td>20</td>\n      <td>4</td>\n      <td>True</td>\n    </tr>\n    <tr>\n      <th>58</th>\n      <td>2021-05-18</td>\n      <td>19:00</td>\n      <td>Premier League</td>\n      <td>Matchweek 37</td>\n      <td>Tue</td>\n      <td>Away</td>\n      <td>L</td>\n      <td>2.0</td>\n      <td>3.0</td>\n      <td>Brighton</td>\n      <td>...</td>\n      <td>1.0</td>\n      <td>0.0</td>\n      <td>0.0</td>\n      <td>2021</td>\n      <td>Manchester City</td>\n      <td>0</td>\n      <td>3</td>\n      <td>19</td>\n      <td>1</td>\n      <td>False</td>\n    </tr>\n    <tr>\n      <th>59</th>\n      <td>2021-05-23</td>\n      <td>16:00</td>\n      <td>Premier League</td>\n      <td>Matchweek 38</td>\n      <td>Sun</td>\n      <td>Home</td>\n      <td>W</td>\n      <td>5.0</td>\n      <td>0.0</td>\n      <td>Everton</td>\n      <td>...</td>\n      <td>0.0</td>\n      <td>0.0</td>\n      <td>0.0</td>\n      <td>2021</td>\n      <td>Manchester City</td>\n      <td>1</td>\n      <td>7</td>\n      <td>16</td>\n      <td>6</td>\n      <td>True</td>\n    </tr>\n  </tbody>\n</table>\n<p>71 rows × 32 columns</p>\n</div>"
          },
          "metadata": {}
        }
      ],
      "execution_count": 33
    },
    {
      "cell_type": "code",
      "source": "def rolling_averages(group, cols, new_cols): #takes in group, a set of cols we want to compute rolling avgs for, put avgs into new_cols\n    \n    group = group.sort_values(\"date\") #sort by asc order to see last 3 matches played and see their performance\n    \n    rolling_stats = group[cols].rolling(3,closed='left').mean() #computes rolling avgs for the cols, will put the data into the third col, closed='left' -> important: w/o this pandas will take in future data\n    #ex prediciting week 3 matches, w/o closed='left' pandas will include 1,2, AND the future data of week 3 (data in week 3 contains nothing for this example) \n    #*****TAKE THE CURRENT WEEK OUT******\n\n    group[new_cols] = rolling_stats\n\n    group = group.dropna(subset=new_cols) # drop missing values, w/o this pandas will put \"MISSING VALUES\" in data which we do not want in our data\n    return group\n    ",
      "metadata": {
        "trusted": true
      },
      "outputs": [],
      "execution_count": 34
    },
    {
      "cell_type": "code",
      "source": "cols = [\"gf\",\"ga\",\"sh\",\"sot\",\"dist\",\"fk\",\"pk\",\"pkatt\"] #stats that are for previous three matches\nnew_cols= [f\"{c}_rolling\" for c in cols] #format string that adds 'rolling' to the end of column names",
      "metadata": {
        "trusted": true
      },
      "outputs": [],
      "execution_count": 35
    },
    {
      "cell_type": "code",
      "source": "new_cols",
      "metadata": {
        "trusted": true
      },
      "outputs": [
        {
          "execution_count": 36,
          "output_type": "execute_result",
          "data": {
            "text/plain": "['gf_rolling',\n 'ga_rolling',\n 'sh_rolling',\n 'sot_rolling',\n 'dist_rolling',\n 'fk_rolling',\n 'pk_rolling',\n 'pkatt_rolling']"
          },
          "metadata": {}
        }
      ],
      "execution_count": 36
    },
    {
      "cell_type": "code",
      "source": "rolling_averages(group, cols, new_cols)",
      "metadata": {
        "trusted": true
      },
      "outputs": [
        {
          "execution_count": 37,
          "output_type": "execute_result",
          "data": {
            "text/plain": "         date   time            comp         round  day venue result   gf  \\\n5  2020-10-17  17:30  Premier League   Matchweek 5  Sat  Home      W  1.0   \n7  2020-10-24  12:30  Premier League   Matchweek 6  Sat  Away      D  1.0   \n9  2020-10-31  12:30  Premier League   Matchweek 7  Sat  Away      W  1.0   \n11 2020-11-08  16:30  Premier League   Matchweek 8  Sun  Home      D  1.0   \n12 2020-11-21  17:30  Premier League   Matchweek 9  Sat  Away      L  0.0   \n..        ...    ...             ...           ...  ...   ...    ...  ...   \n42 2022-03-14  20:00  Premier League  Matchweek 29  Mon  Away      D  0.0   \n44 2022-04-02  15:00  Premier League  Matchweek 31  Sat  Away      W  2.0   \n46 2022-04-10  16:30  Premier League  Matchweek 32  Sun  Home      D  2.0   \n49 2022-04-20  20:00  Premier League  Matchweek 30  Wed  Home      W  3.0   \n50 2022-04-23  15:00  Premier League  Matchweek 34  Sat  Home      W  5.0   \n\n     ga        opponent  ...  day_code  target  gf_rolling  ga_rolling  \\\n5   0.0         Arsenal  ...         5    True    2.000000    2.333333   \n7   1.0        West Ham  ...         5   False    1.333333    2.000000   \n9   0.0   Sheffield Utd  ...         5    True    1.000000    0.666667   \n11  1.0       Liverpool  ...         6   False    1.000000    0.333333   \n12  2.0       Tottenham  ...         5   False    1.000000    0.666667   \n..  ...             ...  ...       ...     ...         ...         ...   \n42  0.0  Crystal Palace  ...         0   False    2.333333    1.333333   \n44  0.0         Burnley  ...         5    True    1.666667    0.333333   \n46  2.0       Liverpool  ...         6   False    2.000000    0.333333   \n49  0.0        Brighton  ...         2    True    1.333333    0.666667   \n50  1.0         Watford  ...         5    True    2.333333    0.666667   \n\n   sh_rolling sot_rolling dist_rolling fk_rolling  pk_rolling  pkatt_rolling  \n5   17.333333    4.666667    18.900000   1.333333    0.333333       0.333333  \n7   17.333333    3.666667    17.733333   0.666667    0.000000       0.000000  \n9   16.666667    4.333333    18.233333   0.666667    0.000000       0.000000  \n11  14.333333    6.666667    18.466667   1.000000    0.000000       0.000000  \n12  12.000000    5.666667    19.366667   1.000000    0.000000       0.333333  \n..        ...         ...          ...        ...         ...            ...  \n42  19.000000    7.000000    15.366667   0.333333    0.333333       0.333333  \n44  18.333333    7.333333    16.000000   0.333333    0.000000       0.000000  \n46  20.000000    6.666667    16.133333   0.333333    0.000000       0.000000  \n49  15.666667    4.666667    16.700000   0.333333    0.000000       0.000000  \n50  15.333333    5.000000    17.200000   0.333333    0.000000       0.000000  \n\n[68 rows x 40 columns]",
            "text/html": "<div>\n<style scoped>\n    .dataframe tbody tr th:only-of-type {\n        vertical-align: middle;\n    }\n\n    .dataframe tbody tr th {\n        vertical-align: top;\n    }\n\n    .dataframe thead th {\n        text-align: right;\n    }\n</style>\n<table border=\"1\" class=\"dataframe\">\n  <thead>\n    <tr style=\"text-align: right;\">\n      <th></th>\n      <th>date</th>\n      <th>time</th>\n      <th>comp</th>\n      <th>round</th>\n      <th>day</th>\n      <th>venue</th>\n      <th>result</th>\n      <th>gf</th>\n      <th>ga</th>\n      <th>opponent</th>\n      <th>...</th>\n      <th>day_code</th>\n      <th>target</th>\n      <th>gf_rolling</th>\n      <th>ga_rolling</th>\n      <th>sh_rolling</th>\n      <th>sot_rolling</th>\n      <th>dist_rolling</th>\n      <th>fk_rolling</th>\n      <th>pk_rolling</th>\n      <th>pkatt_rolling</th>\n    </tr>\n  </thead>\n  <tbody>\n    <tr>\n      <th>5</th>\n      <td>2020-10-17</td>\n      <td>17:30</td>\n      <td>Premier League</td>\n      <td>Matchweek 5</td>\n      <td>Sat</td>\n      <td>Home</td>\n      <td>W</td>\n      <td>1.0</td>\n      <td>0.0</td>\n      <td>Arsenal</td>\n      <td>...</td>\n      <td>5</td>\n      <td>True</td>\n      <td>2.000000</td>\n      <td>2.333333</td>\n      <td>17.333333</td>\n      <td>4.666667</td>\n      <td>18.900000</td>\n      <td>1.333333</td>\n      <td>0.333333</td>\n      <td>0.333333</td>\n    </tr>\n    <tr>\n      <th>7</th>\n      <td>2020-10-24</td>\n      <td>12:30</td>\n      <td>Premier League</td>\n      <td>Matchweek 6</td>\n      <td>Sat</td>\n      <td>Away</td>\n      <td>D</td>\n      <td>1.0</td>\n      <td>1.0</td>\n      <td>West Ham</td>\n      <td>...</td>\n      <td>5</td>\n      <td>False</td>\n      <td>1.333333</td>\n      <td>2.000000</td>\n      <td>17.333333</td>\n      <td>3.666667</td>\n      <td>17.733333</td>\n      <td>0.666667</td>\n      <td>0.000000</td>\n      <td>0.000000</td>\n    </tr>\n    <tr>\n      <th>9</th>\n      <td>2020-10-31</td>\n      <td>12:30</td>\n      <td>Premier League</td>\n      <td>Matchweek 7</td>\n      <td>Sat</td>\n      <td>Away</td>\n      <td>W</td>\n      <td>1.0</td>\n      <td>0.0</td>\n      <td>Sheffield Utd</td>\n      <td>...</td>\n      <td>5</td>\n      <td>True</td>\n      <td>1.000000</td>\n      <td>0.666667</td>\n      <td>16.666667</td>\n      <td>4.333333</td>\n      <td>18.233333</td>\n      <td>0.666667</td>\n      <td>0.000000</td>\n      <td>0.000000</td>\n    </tr>\n    <tr>\n      <th>11</th>\n      <td>2020-11-08</td>\n      <td>16:30</td>\n      <td>Premier League</td>\n      <td>Matchweek 8</td>\n      <td>Sun</td>\n      <td>Home</td>\n      <td>D</td>\n      <td>1.0</td>\n      <td>1.0</td>\n      <td>Liverpool</td>\n      <td>...</td>\n      <td>6</td>\n      <td>False</td>\n      <td>1.000000</td>\n      <td>0.333333</td>\n      <td>14.333333</td>\n      <td>6.666667</td>\n      <td>18.466667</td>\n      <td>1.000000</td>\n      <td>0.000000</td>\n      <td>0.000000</td>\n    </tr>\n    <tr>\n      <th>12</th>\n      <td>2020-11-21</td>\n      <td>17:30</td>\n      <td>Premier League</td>\n      <td>Matchweek 9</td>\n      <td>Sat</td>\n      <td>Away</td>\n      <td>L</td>\n      <td>0.0</td>\n      <td>2.0</td>\n      <td>Tottenham</td>\n      <td>...</td>\n      <td>5</td>\n      <td>False</td>\n      <td>1.000000</td>\n      <td>0.666667</td>\n      <td>12.000000</td>\n      <td>5.666667</td>\n      <td>19.366667</td>\n      <td>1.000000</td>\n      <td>0.000000</td>\n      <td>0.333333</td>\n    </tr>\n    <tr>\n      <th>...</th>\n      <td>...</td>\n      <td>...</td>\n      <td>...</td>\n      <td>...</td>\n      <td>...</td>\n      <td>...</td>\n      <td>...</td>\n      <td>...</td>\n      <td>...</td>\n      <td>...</td>\n      <td>...</td>\n      <td>...</td>\n      <td>...</td>\n      <td>...</td>\n      <td>...</td>\n      <td>...</td>\n      <td>...</td>\n      <td>...</td>\n      <td>...</td>\n      <td>...</td>\n      <td>...</td>\n    </tr>\n    <tr>\n      <th>42</th>\n      <td>2022-03-14</td>\n      <td>20:00</td>\n      <td>Premier League</td>\n      <td>Matchweek 29</td>\n      <td>Mon</td>\n      <td>Away</td>\n      <td>D</td>\n      <td>0.0</td>\n      <td>0.0</td>\n      <td>Crystal Palace</td>\n      <td>...</td>\n      <td>0</td>\n      <td>False</td>\n      <td>2.333333</td>\n      <td>1.333333</td>\n      <td>19.000000</td>\n      <td>7.000000</td>\n      <td>15.366667</td>\n      <td>0.333333</td>\n      <td>0.333333</td>\n      <td>0.333333</td>\n    </tr>\n    <tr>\n      <th>44</th>\n      <td>2022-04-02</td>\n      <td>15:00</td>\n      <td>Premier League</td>\n      <td>Matchweek 31</td>\n      <td>Sat</td>\n      <td>Away</td>\n      <td>W</td>\n      <td>2.0</td>\n      <td>0.0</td>\n      <td>Burnley</td>\n      <td>...</td>\n      <td>5</td>\n      <td>True</td>\n      <td>1.666667</td>\n      <td>0.333333</td>\n      <td>18.333333</td>\n      <td>7.333333</td>\n      <td>16.000000</td>\n      <td>0.333333</td>\n      <td>0.000000</td>\n      <td>0.000000</td>\n    </tr>\n    <tr>\n      <th>46</th>\n      <td>2022-04-10</td>\n      <td>16:30</td>\n      <td>Premier League</td>\n      <td>Matchweek 32</td>\n      <td>Sun</td>\n      <td>Home</td>\n      <td>D</td>\n      <td>2.0</td>\n      <td>2.0</td>\n      <td>Liverpool</td>\n      <td>...</td>\n      <td>6</td>\n      <td>False</td>\n      <td>2.000000</td>\n      <td>0.333333</td>\n      <td>20.000000</td>\n      <td>6.666667</td>\n      <td>16.133333</td>\n      <td>0.333333</td>\n      <td>0.000000</td>\n      <td>0.000000</td>\n    </tr>\n    <tr>\n      <th>49</th>\n      <td>2022-04-20</td>\n      <td>20:00</td>\n      <td>Premier League</td>\n      <td>Matchweek 30</td>\n      <td>Wed</td>\n      <td>Home</td>\n      <td>W</td>\n      <td>3.0</td>\n      <td>0.0</td>\n      <td>Brighton</td>\n      <td>...</td>\n      <td>2</td>\n      <td>True</td>\n      <td>1.333333</td>\n      <td>0.666667</td>\n      <td>15.666667</td>\n      <td>4.666667</td>\n      <td>16.700000</td>\n      <td>0.333333</td>\n      <td>0.000000</td>\n      <td>0.000000</td>\n    </tr>\n    <tr>\n      <th>50</th>\n      <td>2022-04-23</td>\n      <td>15:00</td>\n      <td>Premier League</td>\n      <td>Matchweek 34</td>\n      <td>Sat</td>\n      <td>Home</td>\n      <td>W</td>\n      <td>5.0</td>\n      <td>1.0</td>\n      <td>Watford</td>\n      <td>...</td>\n      <td>5</td>\n      <td>True</td>\n      <td>2.333333</td>\n      <td>0.666667</td>\n      <td>15.333333</td>\n      <td>5.000000</td>\n      <td>17.200000</td>\n      <td>0.333333</td>\n      <td>0.000000</td>\n      <td>0.000000</td>\n    </tr>\n  </tbody>\n</table>\n<p>68 rows × 40 columns</p>\n</div>"
          },
          "metadata": {}
        }
      ],
      "execution_count": 37
    },
    {
      "cell_type": "code",
      "source": "matches_rolling = matches.groupby(\"team\").apply(lambda x: rolling_averages(x,cols,new_cols))\n# we group the data up by the \"team\" column and then use .apply to apply the rolling_averages function to each team",
      "metadata": {
        "trusted": true
      },
      "outputs": [
        {
          "name": "stderr",
          "text": "<ipython-input-38-dda2dbd93114>:1: DeprecationWarning: DataFrameGroupBy.apply operated on the grouping columns. This behavior is deprecated, and in a future version of pandas the grouping columns will be excluded from the operation. Either pass `include_groups=False` to exclude the groupings or explicitly select the grouping columns after groupby to silence this warning.\n  matches_rolling = matches.groupby(\"team\").apply(lambda x: rolling_averages(x,cols,new_cols))\n",
          "output_type": "stream"
        }
      ],
      "execution_count": 38
    },
    {
      "cell_type": "code",
      "source": "matches_rolling",
      "metadata": {
        "trusted": true
      },
      "outputs": [
        {
          "execution_count": 39,
          "output_type": "execute_result",
          "data": {
            "text/plain": "                                 date   time            comp         round  \\\nteam                                                                         \nArsenal                 6  2020-10-04  14:00  Premier League   Matchweek 4   \n                        7  2020-10-17  17:30  Premier League   Matchweek 5   \n                        9  2020-10-25  19:15  Premier League   Matchweek 6   \n                        11 2020-11-01  16:30  Premier League   Matchweek 7   \n                        13 2020-11-08  19:15  Premier League   Matchweek 8   \n...                               ...    ...             ...           ...   \nWolverhampton Wanderers 32 2022-03-13  14:00  Premier League  Matchweek 29   \n                        33 2022-03-18  20:00  Premier League  Matchweek 30   \n                        34 2022-04-02  15:00  Premier League  Matchweek 31   \n                        35 2022-04-08  20:00  Premier League  Matchweek 32   \n                        36 2022-04-24  14:00  Premier League  Matchweek 34   \n\n                            day venue result   gf   ga         opponent  ...  \\\nteam                                                                     ...   \nArsenal                 6   Sun  Home      W  2.0  1.0    Sheffield Utd  ...   \n                        7   Sat  Away      L  0.0  1.0  Manchester City  ...   \n                        9   Sun  Home      L  0.0  1.0   Leicester City  ...   \n                        11  Sun  Away      W  1.0  0.0   Manchester Utd  ...   \n                        13  Sun  Home      L  0.0  3.0      Aston Villa  ...   \n...                         ...   ...    ...  ...  ...              ...  ...   \nWolverhampton Wanderers 32  Sun  Away      W  1.0  0.0          Everton  ...   \n                        33  Fri  Home      L  2.0  3.0     Leeds United  ...   \n                        34  Sat  Home      W  2.0  1.0      Aston Villa  ...   \n                        35  Fri  Away      L  0.0  1.0    Newcastle Utd  ...   \n                        36  Sun  Away      L  0.0  1.0          Burnley  ...   \n\n                            day_code  target  gf_rolling  ga_rolling  \\\nteam                                                                   \nArsenal                 6          6    True    2.000000    1.333333   \n                        7          5   False    1.666667    1.666667   \n                        9          6   False    1.000000    1.666667   \n                        11         6    True    0.666667    1.000000   \n                        13         6   False    0.333333    0.666667   \n...                              ...     ...         ...         ...   \nWolverhampton Wanderers 32         6    True    1.333333    1.000000   \n                        33         4   False    1.666667    0.666667   \n                        34         5    True    2.333333    1.000000   \n                        35         4   False    1.666667    1.333333   \n                        36         6   False    1.333333    1.666667   \n\n                           sh_rolling sot_rolling dist_rolling fk_rolling  \\\nteam                                                                        \nArsenal                 6    7.666667    3.666667    14.733333   0.666667   \n                        7    5.333333    3.666667    15.766667   0.000000   \n                        9    7.000000    3.666667    16.733333   0.666667   \n                        11   9.666667    4.000000    16.033333   1.000000   \n                        13   9.666667    2.666667    18.033333   1.000000   \n...                               ...         ...          ...        ...   \nWolverhampton Wanderers 32  12.333333    3.666667    19.300000   0.000000   \n                        33  12.333333    4.333333    19.600000   0.000000   \n                        34  13.000000    5.333333    19.833333   0.000000   \n                        35  13.000000    5.000000    18.533333   0.000000   \n                        36  10.000000    4.666667    17.633333   0.000000   \n\n                            pk_rolling  pkatt_rolling  \nteam                                                   \nArsenal                 6     0.000000       0.000000  \n                        7     0.000000       0.000000  \n                        9     0.000000       0.000000  \n                        11    0.000000       0.000000  \n                        13    0.333333       0.333333  \n...                                ...            ...  \nWolverhampton Wanderers 32    0.000000       0.000000  \n                        33    0.000000       0.000000  \n                        34    0.000000       0.000000  \n                        35    0.000000       0.000000  \n                        36    0.000000       0.000000  \n\n[1317 rows x 40 columns]",
            "text/html": "<div>\n<style scoped>\n    .dataframe tbody tr th:only-of-type {\n        vertical-align: middle;\n    }\n\n    .dataframe tbody tr th {\n        vertical-align: top;\n    }\n\n    .dataframe thead th {\n        text-align: right;\n    }\n</style>\n<table border=\"1\" class=\"dataframe\">\n  <thead>\n    <tr style=\"text-align: right;\">\n      <th></th>\n      <th></th>\n      <th>date</th>\n      <th>time</th>\n      <th>comp</th>\n      <th>round</th>\n      <th>day</th>\n      <th>venue</th>\n      <th>result</th>\n      <th>gf</th>\n      <th>ga</th>\n      <th>opponent</th>\n      <th>...</th>\n      <th>day_code</th>\n      <th>target</th>\n      <th>gf_rolling</th>\n      <th>ga_rolling</th>\n      <th>sh_rolling</th>\n      <th>sot_rolling</th>\n      <th>dist_rolling</th>\n      <th>fk_rolling</th>\n      <th>pk_rolling</th>\n      <th>pkatt_rolling</th>\n    </tr>\n    <tr>\n      <th>team</th>\n      <th></th>\n      <th></th>\n      <th></th>\n      <th></th>\n      <th></th>\n      <th></th>\n      <th></th>\n      <th></th>\n      <th></th>\n      <th></th>\n      <th></th>\n      <th></th>\n      <th></th>\n      <th></th>\n      <th></th>\n      <th></th>\n      <th></th>\n      <th></th>\n      <th></th>\n      <th></th>\n      <th></th>\n      <th></th>\n    </tr>\n  </thead>\n  <tbody>\n    <tr>\n      <th rowspan=\"5\" valign=\"top\">Arsenal</th>\n      <th>6</th>\n      <td>2020-10-04</td>\n      <td>14:00</td>\n      <td>Premier League</td>\n      <td>Matchweek 4</td>\n      <td>Sun</td>\n      <td>Home</td>\n      <td>W</td>\n      <td>2.0</td>\n      <td>1.0</td>\n      <td>Sheffield Utd</td>\n      <td>...</td>\n      <td>6</td>\n      <td>True</td>\n      <td>2.000000</td>\n      <td>1.333333</td>\n      <td>7.666667</td>\n      <td>3.666667</td>\n      <td>14.733333</td>\n      <td>0.666667</td>\n      <td>0.000000</td>\n      <td>0.000000</td>\n    </tr>\n    <tr>\n      <th>7</th>\n      <td>2020-10-17</td>\n      <td>17:30</td>\n      <td>Premier League</td>\n      <td>Matchweek 5</td>\n      <td>Sat</td>\n      <td>Away</td>\n      <td>L</td>\n      <td>0.0</td>\n      <td>1.0</td>\n      <td>Manchester City</td>\n      <td>...</td>\n      <td>5</td>\n      <td>False</td>\n      <td>1.666667</td>\n      <td>1.666667</td>\n      <td>5.333333</td>\n      <td>3.666667</td>\n      <td>15.766667</td>\n      <td>0.000000</td>\n      <td>0.000000</td>\n      <td>0.000000</td>\n    </tr>\n    <tr>\n      <th>9</th>\n      <td>2020-10-25</td>\n      <td>19:15</td>\n      <td>Premier League</td>\n      <td>Matchweek 6</td>\n      <td>Sun</td>\n      <td>Home</td>\n      <td>L</td>\n      <td>0.0</td>\n      <td>1.0</td>\n      <td>Leicester City</td>\n      <td>...</td>\n      <td>6</td>\n      <td>False</td>\n      <td>1.000000</td>\n      <td>1.666667</td>\n      <td>7.000000</td>\n      <td>3.666667</td>\n      <td>16.733333</td>\n      <td>0.666667</td>\n      <td>0.000000</td>\n      <td>0.000000</td>\n    </tr>\n    <tr>\n      <th>11</th>\n      <td>2020-11-01</td>\n      <td>16:30</td>\n      <td>Premier League</td>\n      <td>Matchweek 7</td>\n      <td>Sun</td>\n      <td>Away</td>\n      <td>W</td>\n      <td>1.0</td>\n      <td>0.0</td>\n      <td>Manchester Utd</td>\n      <td>...</td>\n      <td>6</td>\n      <td>True</td>\n      <td>0.666667</td>\n      <td>1.000000</td>\n      <td>9.666667</td>\n      <td>4.000000</td>\n      <td>16.033333</td>\n      <td>1.000000</td>\n      <td>0.000000</td>\n      <td>0.000000</td>\n    </tr>\n    <tr>\n      <th>13</th>\n      <td>2020-11-08</td>\n      <td>19:15</td>\n      <td>Premier League</td>\n      <td>Matchweek 8</td>\n      <td>Sun</td>\n      <td>Home</td>\n      <td>L</td>\n      <td>0.0</td>\n      <td>3.0</td>\n      <td>Aston Villa</td>\n      <td>...</td>\n      <td>6</td>\n      <td>False</td>\n      <td>0.333333</td>\n      <td>0.666667</td>\n      <td>9.666667</td>\n      <td>2.666667</td>\n      <td>18.033333</td>\n      <td>1.000000</td>\n      <td>0.333333</td>\n      <td>0.333333</td>\n    </tr>\n    <tr>\n      <th>...</th>\n      <th>...</th>\n      <td>...</td>\n      <td>...</td>\n      <td>...</td>\n      <td>...</td>\n      <td>...</td>\n      <td>...</td>\n      <td>...</td>\n      <td>...</td>\n      <td>...</td>\n      <td>...</td>\n      <td>...</td>\n      <td>...</td>\n      <td>...</td>\n      <td>...</td>\n      <td>...</td>\n      <td>...</td>\n      <td>...</td>\n      <td>...</td>\n      <td>...</td>\n      <td>...</td>\n      <td>...</td>\n    </tr>\n    <tr>\n      <th rowspan=\"5\" valign=\"top\">Wolverhampton Wanderers</th>\n      <th>32</th>\n      <td>2022-03-13</td>\n      <td>14:00</td>\n      <td>Premier League</td>\n      <td>Matchweek 29</td>\n      <td>Sun</td>\n      <td>Away</td>\n      <td>W</td>\n      <td>1.0</td>\n      <td>0.0</td>\n      <td>Everton</td>\n      <td>...</td>\n      <td>6</td>\n      <td>True</td>\n      <td>1.333333</td>\n      <td>1.000000</td>\n      <td>12.333333</td>\n      <td>3.666667</td>\n      <td>19.300000</td>\n      <td>0.000000</td>\n      <td>0.000000</td>\n      <td>0.000000</td>\n    </tr>\n    <tr>\n      <th>33</th>\n      <td>2022-03-18</td>\n      <td>20:00</td>\n      <td>Premier League</td>\n      <td>Matchweek 30</td>\n      <td>Fri</td>\n      <td>Home</td>\n      <td>L</td>\n      <td>2.0</td>\n      <td>3.0</td>\n      <td>Leeds United</td>\n      <td>...</td>\n      <td>4</td>\n      <td>False</td>\n      <td>1.666667</td>\n      <td>0.666667</td>\n      <td>12.333333</td>\n      <td>4.333333</td>\n      <td>19.600000</td>\n      <td>0.000000</td>\n      <td>0.000000</td>\n      <td>0.000000</td>\n    </tr>\n    <tr>\n      <th>34</th>\n      <td>2022-04-02</td>\n      <td>15:00</td>\n      <td>Premier League</td>\n      <td>Matchweek 31</td>\n      <td>Sat</td>\n      <td>Home</td>\n      <td>W</td>\n      <td>2.0</td>\n      <td>1.0</td>\n      <td>Aston Villa</td>\n      <td>...</td>\n      <td>5</td>\n      <td>True</td>\n      <td>2.333333</td>\n      <td>1.000000</td>\n      <td>13.000000</td>\n      <td>5.333333</td>\n      <td>19.833333</td>\n      <td>0.000000</td>\n      <td>0.000000</td>\n      <td>0.000000</td>\n    </tr>\n    <tr>\n      <th>35</th>\n      <td>2022-04-08</td>\n      <td>20:00</td>\n      <td>Premier League</td>\n      <td>Matchweek 32</td>\n      <td>Fri</td>\n      <td>Away</td>\n      <td>L</td>\n      <td>0.0</td>\n      <td>1.0</td>\n      <td>Newcastle Utd</td>\n      <td>...</td>\n      <td>4</td>\n      <td>False</td>\n      <td>1.666667</td>\n      <td>1.333333</td>\n      <td>13.000000</td>\n      <td>5.000000</td>\n      <td>18.533333</td>\n      <td>0.000000</td>\n      <td>0.000000</td>\n      <td>0.000000</td>\n    </tr>\n    <tr>\n      <th>36</th>\n      <td>2022-04-24</td>\n      <td>14:00</td>\n      <td>Premier League</td>\n      <td>Matchweek 34</td>\n      <td>Sun</td>\n      <td>Away</td>\n      <td>L</td>\n      <td>0.0</td>\n      <td>1.0</td>\n      <td>Burnley</td>\n      <td>...</td>\n      <td>6</td>\n      <td>False</td>\n      <td>1.333333</td>\n      <td>1.666667</td>\n      <td>10.000000</td>\n      <td>4.666667</td>\n      <td>17.633333</td>\n      <td>0.000000</td>\n      <td>0.000000</td>\n      <td>0.000000</td>\n    </tr>\n  </tbody>\n</table>\n<p>1317 rows × 40 columns</p>\n</div>"
          },
          "metadata": {}
        }
      ],
      "execution_count": 39
    },
    {
      "cell_type": "code",
      "source": "matches_rolling = matches_rolling.droplevel(\"team\") #drops team column since it is not a necessary column to have",
      "metadata": {
        "trusted": true
      },
      "outputs": [],
      "execution_count": 40
    },
    {
      "cell_type": "code",
      "source": "matches_rolling",
      "metadata": {
        "trusted": true
      },
      "outputs": [
        {
          "execution_count": 41,
          "output_type": "execute_result",
          "data": {
            "text/plain": "         date   time            comp         round  day venue result   gf  \\\n6  2020-10-04  14:00  Premier League   Matchweek 4  Sun  Home      W  2.0   \n7  2020-10-17  17:30  Premier League   Matchweek 5  Sat  Away      L  0.0   \n9  2020-10-25  19:15  Premier League   Matchweek 6  Sun  Home      L  0.0   \n11 2020-11-01  16:30  Premier League   Matchweek 7  Sun  Away      W  1.0   \n13 2020-11-08  19:15  Premier League   Matchweek 8  Sun  Home      L  0.0   \n..        ...    ...             ...           ...  ...   ...    ...  ...   \n32 2022-03-13  14:00  Premier League  Matchweek 29  Sun  Away      W  1.0   \n33 2022-03-18  20:00  Premier League  Matchweek 30  Fri  Home      L  2.0   \n34 2022-04-02  15:00  Premier League  Matchweek 31  Sat  Home      W  2.0   \n35 2022-04-08  20:00  Premier League  Matchweek 32  Fri  Away      L  0.0   \n36 2022-04-24  14:00  Premier League  Matchweek 34  Sun  Away      L  0.0   \n\n     ga         opponent  ...  day_code  target  gf_rolling  ga_rolling  \\\n6   1.0    Sheffield Utd  ...         6    True    2.000000    1.333333   \n7   1.0  Manchester City  ...         5   False    1.666667    1.666667   \n9   1.0   Leicester City  ...         6   False    1.000000    1.666667   \n11  0.0   Manchester Utd  ...         6    True    0.666667    1.000000   \n13  3.0      Aston Villa  ...         6   False    0.333333    0.666667   \n..  ...              ...  ...       ...     ...         ...         ...   \n32  0.0          Everton  ...         6    True    1.333333    1.000000   \n33  3.0     Leeds United  ...         4   False    1.666667    0.666667   \n34  1.0      Aston Villa  ...         5    True    2.333333    1.000000   \n35  1.0    Newcastle Utd  ...         4   False    1.666667    1.333333   \n36  1.0          Burnley  ...         6   False    1.333333    1.666667   \n\n   sh_rolling sot_rolling dist_rolling fk_rolling  pk_rolling  pkatt_rolling  \n6    7.666667    3.666667    14.733333   0.666667    0.000000       0.000000  \n7    5.333333    3.666667    15.766667   0.000000    0.000000       0.000000  \n9    7.000000    3.666667    16.733333   0.666667    0.000000       0.000000  \n11   9.666667    4.000000    16.033333   1.000000    0.000000       0.000000  \n13   9.666667    2.666667    18.033333   1.000000    0.333333       0.333333  \n..        ...         ...          ...        ...         ...            ...  \n32  12.333333    3.666667    19.300000   0.000000    0.000000       0.000000  \n33  12.333333    4.333333    19.600000   0.000000    0.000000       0.000000  \n34  13.000000    5.333333    19.833333   0.000000    0.000000       0.000000  \n35  13.000000    5.000000    18.533333   0.000000    0.000000       0.000000  \n36  10.000000    4.666667    17.633333   0.000000    0.000000       0.000000  \n\n[1317 rows x 40 columns]",
            "text/html": "<div>\n<style scoped>\n    .dataframe tbody tr th:only-of-type {\n        vertical-align: middle;\n    }\n\n    .dataframe tbody tr th {\n        vertical-align: top;\n    }\n\n    .dataframe thead th {\n        text-align: right;\n    }\n</style>\n<table border=\"1\" class=\"dataframe\">\n  <thead>\n    <tr style=\"text-align: right;\">\n      <th></th>\n      <th>date</th>\n      <th>time</th>\n      <th>comp</th>\n      <th>round</th>\n      <th>day</th>\n      <th>venue</th>\n      <th>result</th>\n      <th>gf</th>\n      <th>ga</th>\n      <th>opponent</th>\n      <th>...</th>\n      <th>day_code</th>\n      <th>target</th>\n      <th>gf_rolling</th>\n      <th>ga_rolling</th>\n      <th>sh_rolling</th>\n      <th>sot_rolling</th>\n      <th>dist_rolling</th>\n      <th>fk_rolling</th>\n      <th>pk_rolling</th>\n      <th>pkatt_rolling</th>\n    </tr>\n  </thead>\n  <tbody>\n    <tr>\n      <th>6</th>\n      <td>2020-10-04</td>\n      <td>14:00</td>\n      <td>Premier League</td>\n      <td>Matchweek 4</td>\n      <td>Sun</td>\n      <td>Home</td>\n      <td>W</td>\n      <td>2.0</td>\n      <td>1.0</td>\n      <td>Sheffield Utd</td>\n      <td>...</td>\n      <td>6</td>\n      <td>True</td>\n      <td>2.000000</td>\n      <td>1.333333</td>\n      <td>7.666667</td>\n      <td>3.666667</td>\n      <td>14.733333</td>\n      <td>0.666667</td>\n      <td>0.000000</td>\n      <td>0.000000</td>\n    </tr>\n    <tr>\n      <th>7</th>\n      <td>2020-10-17</td>\n      <td>17:30</td>\n      <td>Premier League</td>\n      <td>Matchweek 5</td>\n      <td>Sat</td>\n      <td>Away</td>\n      <td>L</td>\n      <td>0.0</td>\n      <td>1.0</td>\n      <td>Manchester City</td>\n      <td>...</td>\n      <td>5</td>\n      <td>False</td>\n      <td>1.666667</td>\n      <td>1.666667</td>\n      <td>5.333333</td>\n      <td>3.666667</td>\n      <td>15.766667</td>\n      <td>0.000000</td>\n      <td>0.000000</td>\n      <td>0.000000</td>\n    </tr>\n    <tr>\n      <th>9</th>\n      <td>2020-10-25</td>\n      <td>19:15</td>\n      <td>Premier League</td>\n      <td>Matchweek 6</td>\n      <td>Sun</td>\n      <td>Home</td>\n      <td>L</td>\n      <td>0.0</td>\n      <td>1.0</td>\n      <td>Leicester City</td>\n      <td>...</td>\n      <td>6</td>\n      <td>False</td>\n      <td>1.000000</td>\n      <td>1.666667</td>\n      <td>7.000000</td>\n      <td>3.666667</td>\n      <td>16.733333</td>\n      <td>0.666667</td>\n      <td>0.000000</td>\n      <td>0.000000</td>\n    </tr>\n    <tr>\n      <th>11</th>\n      <td>2020-11-01</td>\n      <td>16:30</td>\n      <td>Premier League</td>\n      <td>Matchweek 7</td>\n      <td>Sun</td>\n      <td>Away</td>\n      <td>W</td>\n      <td>1.0</td>\n      <td>0.0</td>\n      <td>Manchester Utd</td>\n      <td>...</td>\n      <td>6</td>\n      <td>True</td>\n      <td>0.666667</td>\n      <td>1.000000</td>\n      <td>9.666667</td>\n      <td>4.000000</td>\n      <td>16.033333</td>\n      <td>1.000000</td>\n      <td>0.000000</td>\n      <td>0.000000</td>\n    </tr>\n    <tr>\n      <th>13</th>\n      <td>2020-11-08</td>\n      <td>19:15</td>\n      <td>Premier League</td>\n      <td>Matchweek 8</td>\n      <td>Sun</td>\n      <td>Home</td>\n      <td>L</td>\n      <td>0.0</td>\n      <td>3.0</td>\n      <td>Aston Villa</td>\n      <td>...</td>\n      <td>6</td>\n      <td>False</td>\n      <td>0.333333</td>\n      <td>0.666667</td>\n      <td>9.666667</td>\n      <td>2.666667</td>\n      <td>18.033333</td>\n      <td>1.000000</td>\n      <td>0.333333</td>\n      <td>0.333333</td>\n    </tr>\n    <tr>\n      <th>...</th>\n      <td>...</td>\n      <td>...</td>\n      <td>...</td>\n      <td>...</td>\n      <td>...</td>\n      <td>...</td>\n      <td>...</td>\n      <td>...</td>\n      <td>...</td>\n      <td>...</td>\n      <td>...</td>\n      <td>...</td>\n      <td>...</td>\n      <td>...</td>\n      <td>...</td>\n      <td>...</td>\n      <td>...</td>\n      <td>...</td>\n      <td>...</td>\n      <td>...</td>\n      <td>...</td>\n    </tr>\n    <tr>\n      <th>32</th>\n      <td>2022-03-13</td>\n      <td>14:00</td>\n      <td>Premier League</td>\n      <td>Matchweek 29</td>\n      <td>Sun</td>\n      <td>Away</td>\n      <td>W</td>\n      <td>1.0</td>\n      <td>0.0</td>\n      <td>Everton</td>\n      <td>...</td>\n      <td>6</td>\n      <td>True</td>\n      <td>1.333333</td>\n      <td>1.000000</td>\n      <td>12.333333</td>\n      <td>3.666667</td>\n      <td>19.300000</td>\n      <td>0.000000</td>\n      <td>0.000000</td>\n      <td>0.000000</td>\n    </tr>\n    <tr>\n      <th>33</th>\n      <td>2022-03-18</td>\n      <td>20:00</td>\n      <td>Premier League</td>\n      <td>Matchweek 30</td>\n      <td>Fri</td>\n      <td>Home</td>\n      <td>L</td>\n      <td>2.0</td>\n      <td>3.0</td>\n      <td>Leeds United</td>\n      <td>...</td>\n      <td>4</td>\n      <td>False</td>\n      <td>1.666667</td>\n      <td>0.666667</td>\n      <td>12.333333</td>\n      <td>4.333333</td>\n      <td>19.600000</td>\n      <td>0.000000</td>\n      <td>0.000000</td>\n      <td>0.000000</td>\n    </tr>\n    <tr>\n      <th>34</th>\n      <td>2022-04-02</td>\n      <td>15:00</td>\n      <td>Premier League</td>\n      <td>Matchweek 31</td>\n      <td>Sat</td>\n      <td>Home</td>\n      <td>W</td>\n      <td>2.0</td>\n      <td>1.0</td>\n      <td>Aston Villa</td>\n      <td>...</td>\n      <td>5</td>\n      <td>True</td>\n      <td>2.333333</td>\n      <td>1.000000</td>\n      <td>13.000000</td>\n      <td>5.333333</td>\n      <td>19.833333</td>\n      <td>0.000000</td>\n      <td>0.000000</td>\n      <td>0.000000</td>\n    </tr>\n    <tr>\n      <th>35</th>\n      <td>2022-04-08</td>\n      <td>20:00</td>\n      <td>Premier League</td>\n      <td>Matchweek 32</td>\n      <td>Fri</td>\n      <td>Away</td>\n      <td>L</td>\n      <td>0.0</td>\n      <td>1.0</td>\n      <td>Newcastle Utd</td>\n      <td>...</td>\n      <td>4</td>\n      <td>False</td>\n      <td>1.666667</td>\n      <td>1.333333</td>\n      <td>13.000000</td>\n      <td>5.000000</td>\n      <td>18.533333</td>\n      <td>0.000000</td>\n      <td>0.000000</td>\n      <td>0.000000</td>\n    </tr>\n    <tr>\n      <th>36</th>\n      <td>2022-04-24</td>\n      <td>14:00</td>\n      <td>Premier League</td>\n      <td>Matchweek 34</td>\n      <td>Sun</td>\n      <td>Away</td>\n      <td>L</td>\n      <td>0.0</td>\n      <td>1.0</td>\n      <td>Burnley</td>\n      <td>...</td>\n      <td>6</td>\n      <td>False</td>\n      <td>1.333333</td>\n      <td>1.666667</td>\n      <td>10.000000</td>\n      <td>4.666667</td>\n      <td>17.633333</td>\n      <td>0.000000</td>\n      <td>0.000000</td>\n      <td>0.000000</td>\n    </tr>\n  </tbody>\n</table>\n<p>1317 rows × 40 columns</p>\n</div>"
          },
          "metadata": {}
        }
      ],
      "execution_count": 41
    },
    {
      "cell_type": "code",
      "source": "#1317 rows but only 36 are showing -> lots of data is being repeating, we only want unique values ",
      "metadata": {
        "trusted": true
      },
      "outputs": [],
      "execution_count": 42
    },
    {
      "cell_type": "code",
      "source": "matches_rolling.index = range(matches_rolling.shape[0]) #this will assign values to indicies from 0-1316",
      "metadata": {
        "trusted": true
      },
      "outputs": [],
      "execution_count": 43
    },
    {
      "cell_type": "code",
      "source": "matches_rolling",
      "metadata": {
        "trusted": true
      },
      "outputs": [
        {
          "execution_count": 44,
          "output_type": "execute_result",
          "data": {
            "text/plain": "           date   time            comp         round  day venue result   gf  \\\n0    2020-10-04  14:00  Premier League   Matchweek 4  Sun  Home      W  2.0   \n1    2020-10-17  17:30  Premier League   Matchweek 5  Sat  Away      L  0.0   \n2    2020-10-25  19:15  Premier League   Matchweek 6  Sun  Home      L  0.0   \n3    2020-11-01  16:30  Premier League   Matchweek 7  Sun  Away      W  1.0   \n4    2020-11-08  19:15  Premier League   Matchweek 8  Sun  Home      L  0.0   \n...         ...    ...             ...           ...  ...   ...    ...  ...   \n1312 2022-03-13  14:00  Premier League  Matchweek 29  Sun  Away      W  1.0   \n1313 2022-03-18  20:00  Premier League  Matchweek 30  Fri  Home      L  2.0   \n1314 2022-04-02  15:00  Premier League  Matchweek 31  Sat  Home      W  2.0   \n1315 2022-04-08  20:00  Premier League  Matchweek 32  Fri  Away      L  0.0   \n1316 2022-04-24  14:00  Premier League  Matchweek 34  Sun  Away      L  0.0   \n\n       ga         opponent  ...  day_code  target  gf_rolling  ga_rolling  \\\n0     1.0    Sheffield Utd  ...         6    True    2.000000    1.333333   \n1     1.0  Manchester City  ...         5   False    1.666667    1.666667   \n2     1.0   Leicester City  ...         6   False    1.000000    1.666667   \n3     0.0   Manchester Utd  ...         6    True    0.666667    1.000000   \n4     3.0      Aston Villa  ...         6   False    0.333333    0.666667   \n...   ...              ...  ...       ...     ...         ...         ...   \n1312  0.0          Everton  ...         6    True    1.333333    1.000000   \n1313  3.0     Leeds United  ...         4   False    1.666667    0.666667   \n1314  1.0      Aston Villa  ...         5    True    2.333333    1.000000   \n1315  1.0    Newcastle Utd  ...         4   False    1.666667    1.333333   \n1316  1.0          Burnley  ...         6   False    1.333333    1.666667   \n\n     sh_rolling sot_rolling dist_rolling fk_rolling  pk_rolling  pkatt_rolling  \n0      7.666667    3.666667    14.733333   0.666667    0.000000       0.000000  \n1      5.333333    3.666667    15.766667   0.000000    0.000000       0.000000  \n2      7.000000    3.666667    16.733333   0.666667    0.000000       0.000000  \n3      9.666667    4.000000    16.033333   1.000000    0.000000       0.000000  \n4      9.666667    2.666667    18.033333   1.000000    0.333333       0.333333  \n...         ...         ...          ...        ...         ...            ...  \n1312  12.333333    3.666667    19.300000   0.000000    0.000000       0.000000  \n1313  12.333333    4.333333    19.600000   0.000000    0.000000       0.000000  \n1314  13.000000    5.333333    19.833333   0.000000    0.000000       0.000000  \n1315  13.000000    5.000000    18.533333   0.000000    0.000000       0.000000  \n1316  10.000000    4.666667    17.633333   0.000000    0.000000       0.000000  \n\n[1317 rows x 40 columns]",
            "text/html": "<div>\n<style scoped>\n    .dataframe tbody tr th:only-of-type {\n        vertical-align: middle;\n    }\n\n    .dataframe tbody tr th {\n        vertical-align: top;\n    }\n\n    .dataframe thead th {\n        text-align: right;\n    }\n</style>\n<table border=\"1\" class=\"dataframe\">\n  <thead>\n    <tr style=\"text-align: right;\">\n      <th></th>\n      <th>date</th>\n      <th>time</th>\n      <th>comp</th>\n      <th>round</th>\n      <th>day</th>\n      <th>venue</th>\n      <th>result</th>\n      <th>gf</th>\n      <th>ga</th>\n      <th>opponent</th>\n      <th>...</th>\n      <th>day_code</th>\n      <th>target</th>\n      <th>gf_rolling</th>\n      <th>ga_rolling</th>\n      <th>sh_rolling</th>\n      <th>sot_rolling</th>\n      <th>dist_rolling</th>\n      <th>fk_rolling</th>\n      <th>pk_rolling</th>\n      <th>pkatt_rolling</th>\n    </tr>\n  </thead>\n  <tbody>\n    <tr>\n      <th>0</th>\n      <td>2020-10-04</td>\n      <td>14:00</td>\n      <td>Premier League</td>\n      <td>Matchweek 4</td>\n      <td>Sun</td>\n      <td>Home</td>\n      <td>W</td>\n      <td>2.0</td>\n      <td>1.0</td>\n      <td>Sheffield Utd</td>\n      <td>...</td>\n      <td>6</td>\n      <td>True</td>\n      <td>2.000000</td>\n      <td>1.333333</td>\n      <td>7.666667</td>\n      <td>3.666667</td>\n      <td>14.733333</td>\n      <td>0.666667</td>\n      <td>0.000000</td>\n      <td>0.000000</td>\n    </tr>\n    <tr>\n      <th>1</th>\n      <td>2020-10-17</td>\n      <td>17:30</td>\n      <td>Premier League</td>\n      <td>Matchweek 5</td>\n      <td>Sat</td>\n      <td>Away</td>\n      <td>L</td>\n      <td>0.0</td>\n      <td>1.0</td>\n      <td>Manchester City</td>\n      <td>...</td>\n      <td>5</td>\n      <td>False</td>\n      <td>1.666667</td>\n      <td>1.666667</td>\n      <td>5.333333</td>\n      <td>3.666667</td>\n      <td>15.766667</td>\n      <td>0.000000</td>\n      <td>0.000000</td>\n      <td>0.000000</td>\n    </tr>\n    <tr>\n      <th>2</th>\n      <td>2020-10-25</td>\n      <td>19:15</td>\n      <td>Premier League</td>\n      <td>Matchweek 6</td>\n      <td>Sun</td>\n      <td>Home</td>\n      <td>L</td>\n      <td>0.0</td>\n      <td>1.0</td>\n      <td>Leicester City</td>\n      <td>...</td>\n      <td>6</td>\n      <td>False</td>\n      <td>1.000000</td>\n      <td>1.666667</td>\n      <td>7.000000</td>\n      <td>3.666667</td>\n      <td>16.733333</td>\n      <td>0.666667</td>\n      <td>0.000000</td>\n      <td>0.000000</td>\n    </tr>\n    <tr>\n      <th>3</th>\n      <td>2020-11-01</td>\n      <td>16:30</td>\n      <td>Premier League</td>\n      <td>Matchweek 7</td>\n      <td>Sun</td>\n      <td>Away</td>\n      <td>W</td>\n      <td>1.0</td>\n      <td>0.0</td>\n      <td>Manchester Utd</td>\n      <td>...</td>\n      <td>6</td>\n      <td>True</td>\n      <td>0.666667</td>\n      <td>1.000000</td>\n      <td>9.666667</td>\n      <td>4.000000</td>\n      <td>16.033333</td>\n      <td>1.000000</td>\n      <td>0.000000</td>\n      <td>0.000000</td>\n    </tr>\n    <tr>\n      <th>4</th>\n      <td>2020-11-08</td>\n      <td>19:15</td>\n      <td>Premier League</td>\n      <td>Matchweek 8</td>\n      <td>Sun</td>\n      <td>Home</td>\n      <td>L</td>\n      <td>0.0</td>\n      <td>3.0</td>\n      <td>Aston Villa</td>\n      <td>...</td>\n      <td>6</td>\n      <td>False</td>\n      <td>0.333333</td>\n      <td>0.666667</td>\n      <td>9.666667</td>\n      <td>2.666667</td>\n      <td>18.033333</td>\n      <td>1.000000</td>\n      <td>0.333333</td>\n      <td>0.333333</td>\n    </tr>\n    <tr>\n      <th>...</th>\n      <td>...</td>\n      <td>...</td>\n      <td>...</td>\n      <td>...</td>\n      <td>...</td>\n      <td>...</td>\n      <td>...</td>\n      <td>...</td>\n      <td>...</td>\n      <td>...</td>\n      <td>...</td>\n      <td>...</td>\n      <td>...</td>\n      <td>...</td>\n      <td>...</td>\n      <td>...</td>\n      <td>...</td>\n      <td>...</td>\n      <td>...</td>\n      <td>...</td>\n      <td>...</td>\n    </tr>\n    <tr>\n      <th>1312</th>\n      <td>2022-03-13</td>\n      <td>14:00</td>\n      <td>Premier League</td>\n      <td>Matchweek 29</td>\n      <td>Sun</td>\n      <td>Away</td>\n      <td>W</td>\n      <td>1.0</td>\n      <td>0.0</td>\n      <td>Everton</td>\n      <td>...</td>\n      <td>6</td>\n      <td>True</td>\n      <td>1.333333</td>\n      <td>1.000000</td>\n      <td>12.333333</td>\n      <td>3.666667</td>\n      <td>19.300000</td>\n      <td>0.000000</td>\n      <td>0.000000</td>\n      <td>0.000000</td>\n    </tr>\n    <tr>\n      <th>1313</th>\n      <td>2022-03-18</td>\n      <td>20:00</td>\n      <td>Premier League</td>\n      <td>Matchweek 30</td>\n      <td>Fri</td>\n      <td>Home</td>\n      <td>L</td>\n      <td>2.0</td>\n      <td>3.0</td>\n      <td>Leeds United</td>\n      <td>...</td>\n      <td>4</td>\n      <td>False</td>\n      <td>1.666667</td>\n      <td>0.666667</td>\n      <td>12.333333</td>\n      <td>4.333333</td>\n      <td>19.600000</td>\n      <td>0.000000</td>\n      <td>0.000000</td>\n      <td>0.000000</td>\n    </tr>\n    <tr>\n      <th>1314</th>\n      <td>2022-04-02</td>\n      <td>15:00</td>\n      <td>Premier League</td>\n      <td>Matchweek 31</td>\n      <td>Sat</td>\n      <td>Home</td>\n      <td>W</td>\n      <td>2.0</td>\n      <td>1.0</td>\n      <td>Aston Villa</td>\n      <td>...</td>\n      <td>5</td>\n      <td>True</td>\n      <td>2.333333</td>\n      <td>1.000000</td>\n      <td>13.000000</td>\n      <td>5.333333</td>\n      <td>19.833333</td>\n      <td>0.000000</td>\n      <td>0.000000</td>\n      <td>0.000000</td>\n    </tr>\n    <tr>\n      <th>1315</th>\n      <td>2022-04-08</td>\n      <td>20:00</td>\n      <td>Premier League</td>\n      <td>Matchweek 32</td>\n      <td>Fri</td>\n      <td>Away</td>\n      <td>L</td>\n      <td>0.0</td>\n      <td>1.0</td>\n      <td>Newcastle Utd</td>\n      <td>...</td>\n      <td>4</td>\n      <td>False</td>\n      <td>1.666667</td>\n      <td>1.333333</td>\n      <td>13.000000</td>\n      <td>5.000000</td>\n      <td>18.533333</td>\n      <td>0.000000</td>\n      <td>0.000000</td>\n      <td>0.000000</td>\n    </tr>\n    <tr>\n      <th>1316</th>\n      <td>2022-04-24</td>\n      <td>14:00</td>\n      <td>Premier League</td>\n      <td>Matchweek 34</td>\n      <td>Sun</td>\n      <td>Away</td>\n      <td>L</td>\n      <td>0.0</td>\n      <td>1.0</td>\n      <td>Burnley</td>\n      <td>...</td>\n      <td>6</td>\n      <td>False</td>\n      <td>1.333333</td>\n      <td>1.666667</td>\n      <td>10.000000</td>\n      <td>4.666667</td>\n      <td>17.633333</td>\n      <td>0.000000</td>\n      <td>0.000000</td>\n      <td>0.000000</td>\n    </tr>\n  </tbody>\n</table>\n<p>1317 rows × 40 columns</p>\n</div>"
          },
          "metadata": {}
        }
      ],
      "execution_count": 44
    },
    {
      "cell_type": "code",
      "source": "def make_predications(data,predictors): #function that makes it easier for us to build upon the algortihm we are using and lets us add the new predictors to the algorithm\n    #split data into training set and test set\n    train = data[data[\"date\"] < '2022-01-01']\n    test = data[data[\"date\"] > '2022-01-01']\n    rf.fit(train[predictors], train[\"target\"])\n    preds = rf.predict(test[predictors])\n    combined = pd.DataFrame(dict(actual=test[\"target\"], predicted=preds), index=test.index)\n    precision = precision_score(test[\"target\"],preds)\n    return combined, precision",
      "metadata": {
        "trusted": true
      },
      "outputs": [],
      "execution_count": 45
    },
    {
      "cell_type": "code",
      "source": "combined, precision = make_predications(matches_rolling,predictors + new_cols)",
      "metadata": {
        "trusted": true
      },
      "outputs": [],
      "execution_count": 46
    },
    {
      "cell_type": "code",
      "source": "precision",
      "metadata": {
        "trusted": true
      },
      "outputs": [
        {
          "execution_count": 47,
          "output_type": "execute_result",
          "data": {
            "text/plain": "0.625"
          },
          "metadata": {}
        }
      ],
      "execution_count": 47
    },
    {
      "cell_type": "code",
      "source": "#precision has increased due to new predictor columns, could it be further precise with more columns?",
      "metadata": {
        "trusted": true
      },
      "outputs": [],
      "execution_count": 48
    },
    {
      "cell_type": "code",
      "source": "combined",
      "metadata": {
        "trusted": true
      },
      "outputs": [
        {
          "execution_count": 49,
          "output_type": "execute_result",
          "data": {
            "text/plain": "      actual  predicted\n55     False      False\n56      True      False\n57      True      False\n58      True       True\n59      True       True\n...      ...        ...\n1312    True      False\n1313   False      False\n1314    True      False\n1315   False      False\n1316   False      False\n\n[276 rows x 2 columns]",
            "text/html": "<div>\n<style scoped>\n    .dataframe tbody tr th:only-of-type {\n        vertical-align: middle;\n    }\n\n    .dataframe tbody tr th {\n        vertical-align: top;\n    }\n\n    .dataframe thead th {\n        text-align: right;\n    }\n</style>\n<table border=\"1\" class=\"dataframe\">\n  <thead>\n    <tr style=\"text-align: right;\">\n      <th></th>\n      <th>actual</th>\n      <th>predicted</th>\n    </tr>\n  </thead>\n  <tbody>\n    <tr>\n      <th>55</th>\n      <td>False</td>\n      <td>False</td>\n    </tr>\n    <tr>\n      <th>56</th>\n      <td>True</td>\n      <td>False</td>\n    </tr>\n    <tr>\n      <th>57</th>\n      <td>True</td>\n      <td>False</td>\n    </tr>\n    <tr>\n      <th>58</th>\n      <td>True</td>\n      <td>True</td>\n    </tr>\n    <tr>\n      <th>59</th>\n      <td>True</td>\n      <td>True</td>\n    </tr>\n    <tr>\n      <th>...</th>\n      <td>...</td>\n      <td>...</td>\n    </tr>\n    <tr>\n      <th>1312</th>\n      <td>True</td>\n      <td>False</td>\n    </tr>\n    <tr>\n      <th>1313</th>\n      <td>False</td>\n      <td>False</td>\n    </tr>\n    <tr>\n      <th>1314</th>\n      <td>True</td>\n      <td>False</td>\n    </tr>\n    <tr>\n      <th>1315</th>\n      <td>False</td>\n      <td>False</td>\n    </tr>\n    <tr>\n      <th>1316</th>\n      <td>False</td>\n      <td>False</td>\n    </tr>\n  </tbody>\n</table>\n<p>276 rows × 2 columns</p>\n</div>"
          },
          "metadata": {}
        }
      ],
      "execution_count": 49
    },
    {
      "cell_type": "code",
      "source": "#though combined contains the results of the predictions and if they were accurate, it doesnt tell the team of the prediciton\n#to fix this, we can use .merge to merge the date, team, oppoenet, result columns",
      "metadata": {
        "trusted": true
      },
      "outputs": [],
      "execution_count": 50
    },
    {
      "cell_type": "code",
      "source": "combined = combined.merge(matches_rolling[[\"date\", \"team\", \"opponent\", \"result\"]], left_index=True, right_index=True) # matches the column index of combined with the indices in matches_rolling",
      "metadata": {
        "trusted": true
      },
      "outputs": [],
      "execution_count": 51
    },
    {
      "cell_type": "code",
      "source": "combined",
      "metadata": {
        "trusted": true
      },
      "outputs": [
        {
          "execution_count": 52,
          "output_type": "execute_result",
          "data": {
            "text/plain": "      actual  predicted       date                     team       opponent  \\\n55     False      False 2022-01-23                  Arsenal        Burnley   \n56      True      False 2022-02-10                  Arsenal         Wolves   \n57      True      False 2022-02-19                  Arsenal      Brentford   \n58      True       True 2022-02-24                  Arsenal         Wolves   \n59      True       True 2022-03-06                  Arsenal        Watford   \n...      ...        ...        ...                      ...            ...   \n1312    True      False 2022-03-13  Wolverhampton Wanderers        Everton   \n1313   False      False 2022-03-18  Wolverhampton Wanderers   Leeds United   \n1314    True      False 2022-04-02  Wolverhampton Wanderers    Aston Villa   \n1315   False      False 2022-04-08  Wolverhampton Wanderers  Newcastle Utd   \n1316   False      False 2022-04-24  Wolverhampton Wanderers        Burnley   \n\n     result  \n55        D  \n56        W  \n57        W  \n58        W  \n59        W  \n...     ...  \n1312      W  \n1313      L  \n1314      W  \n1315      L  \n1316      L  \n\n[276 rows x 6 columns]",
            "text/html": "<div>\n<style scoped>\n    .dataframe tbody tr th:only-of-type {\n        vertical-align: middle;\n    }\n\n    .dataframe tbody tr th {\n        vertical-align: top;\n    }\n\n    .dataframe thead th {\n        text-align: right;\n    }\n</style>\n<table border=\"1\" class=\"dataframe\">\n  <thead>\n    <tr style=\"text-align: right;\">\n      <th></th>\n      <th>actual</th>\n      <th>predicted</th>\n      <th>date</th>\n      <th>team</th>\n      <th>opponent</th>\n      <th>result</th>\n    </tr>\n  </thead>\n  <tbody>\n    <tr>\n      <th>55</th>\n      <td>False</td>\n      <td>False</td>\n      <td>2022-01-23</td>\n      <td>Arsenal</td>\n      <td>Burnley</td>\n      <td>D</td>\n    </tr>\n    <tr>\n      <th>56</th>\n      <td>True</td>\n      <td>False</td>\n      <td>2022-02-10</td>\n      <td>Arsenal</td>\n      <td>Wolves</td>\n      <td>W</td>\n    </tr>\n    <tr>\n      <th>57</th>\n      <td>True</td>\n      <td>False</td>\n      <td>2022-02-19</td>\n      <td>Arsenal</td>\n      <td>Brentford</td>\n      <td>W</td>\n    </tr>\n    <tr>\n      <th>58</th>\n      <td>True</td>\n      <td>True</td>\n      <td>2022-02-24</td>\n      <td>Arsenal</td>\n      <td>Wolves</td>\n      <td>W</td>\n    </tr>\n    <tr>\n      <th>59</th>\n      <td>True</td>\n      <td>True</td>\n      <td>2022-03-06</td>\n      <td>Arsenal</td>\n      <td>Watford</td>\n      <td>W</td>\n    </tr>\n    <tr>\n      <th>...</th>\n      <td>...</td>\n      <td>...</td>\n      <td>...</td>\n      <td>...</td>\n      <td>...</td>\n      <td>...</td>\n    </tr>\n    <tr>\n      <th>1312</th>\n      <td>True</td>\n      <td>False</td>\n      <td>2022-03-13</td>\n      <td>Wolverhampton Wanderers</td>\n      <td>Everton</td>\n      <td>W</td>\n    </tr>\n    <tr>\n      <th>1313</th>\n      <td>False</td>\n      <td>False</td>\n      <td>2022-03-18</td>\n      <td>Wolverhampton Wanderers</td>\n      <td>Leeds United</td>\n      <td>L</td>\n    </tr>\n    <tr>\n      <th>1314</th>\n      <td>True</td>\n      <td>False</td>\n      <td>2022-04-02</td>\n      <td>Wolverhampton Wanderers</td>\n      <td>Aston Villa</td>\n      <td>W</td>\n    </tr>\n    <tr>\n      <th>1315</th>\n      <td>False</td>\n      <td>False</td>\n      <td>2022-04-08</td>\n      <td>Wolverhampton Wanderers</td>\n      <td>Newcastle Utd</td>\n      <td>L</td>\n    </tr>\n    <tr>\n      <th>1316</th>\n      <td>False</td>\n      <td>False</td>\n      <td>2022-04-24</td>\n      <td>Wolverhampton Wanderers</td>\n      <td>Burnley</td>\n      <td>L</td>\n    </tr>\n  </tbody>\n</table>\n<p>276 rows × 6 columns</p>\n</div>"
          },
          "metadata": {}
        }
      ],
      "execution_count": 52
    },
    {
      "cell_type": "code",
      "source": "#since the algorithm predicted both sides of the match, we are going to combine those rows since it might have made diff predictions. This can help us dig deeper into the algorithm and well as fix any underlying issues",
      "metadata": {
        "trusted": true
      },
      "outputs": [],
      "execution_count": 53
    },
    {
      "cell_type": "code",
      "source": "#first we are going to normalize the names of the teams due to some columns having a different name for a team than others\nclass MissingDict(dict): # creating a class that inherits from dict class, this is so that pandas can handle missing keys, what pandas will do is remove the name from dict instead of replacing with original name\n    __missing__ = lambda self, key: key\n\nmap_values = {\n    \"Brighton and Hove Albion\": \"righton\",\n    \"Manchester United\": \"Machester Utd\",\n    \"Newcastle United:\": \"Newcastle Utd\",\n    \"Tottenham Hotspur\": \"tottenham\",\n    \"West Ham United\": \"West Ham\",\n    \"Wolverhampton Wanderers\": \"Wolves\"\n}# we are only putting the names that are inconsistent in the dict\nmapping = MissingDict(**map_values)",
      "metadata": {
        "trusted": true
      },
      "outputs": [],
      "execution_count": 54
    },
    {
      "cell_type": "code",
      "source": "mapping[\"West Ham United\"]",
      "metadata": {
        "trusted": true
      },
      "outputs": [
        {
          "execution_count": 55,
          "output_type": "execute_result",
          "data": {
            "text/plain": "'West Ham'"
          },
          "metadata": {}
        }
      ],
      "execution_count": 55
    },
    {
      "cell_type": "code",
      "source": "combined[\"new_team\"] = combined[\"team\"].map(mapping)",
      "metadata": {
        "trusted": true
      },
      "outputs": [],
      "execution_count": 56
    },
    {
      "cell_type": "code",
      "source": "combined",
      "metadata": {
        "trusted": true
      },
      "outputs": [
        {
          "execution_count": 57,
          "output_type": "execute_result",
          "data": {
            "text/plain": "      actual  predicted       date                     team       opponent  \\\n55     False      False 2022-01-23                  Arsenal        Burnley   \n56      True      False 2022-02-10                  Arsenal         Wolves   \n57      True      False 2022-02-19                  Arsenal      Brentford   \n58      True       True 2022-02-24                  Arsenal         Wolves   \n59      True       True 2022-03-06                  Arsenal        Watford   \n...      ...        ...        ...                      ...            ...   \n1312    True      False 2022-03-13  Wolverhampton Wanderers        Everton   \n1313   False      False 2022-03-18  Wolverhampton Wanderers   Leeds United   \n1314    True      False 2022-04-02  Wolverhampton Wanderers    Aston Villa   \n1315   False      False 2022-04-08  Wolverhampton Wanderers  Newcastle Utd   \n1316   False      False 2022-04-24  Wolverhampton Wanderers        Burnley   \n\n     result new_team  \n55        D  Arsenal  \n56        W  Arsenal  \n57        W  Arsenal  \n58        W  Arsenal  \n59        W  Arsenal  \n...     ...      ...  \n1312      W   Wolves  \n1313      L   Wolves  \n1314      W   Wolves  \n1315      L   Wolves  \n1316      L   Wolves  \n\n[276 rows x 7 columns]",
            "text/html": "<div>\n<style scoped>\n    .dataframe tbody tr th:only-of-type {\n        vertical-align: middle;\n    }\n\n    .dataframe tbody tr th {\n        vertical-align: top;\n    }\n\n    .dataframe thead th {\n        text-align: right;\n    }\n</style>\n<table border=\"1\" class=\"dataframe\">\n  <thead>\n    <tr style=\"text-align: right;\">\n      <th></th>\n      <th>actual</th>\n      <th>predicted</th>\n      <th>date</th>\n      <th>team</th>\n      <th>opponent</th>\n      <th>result</th>\n      <th>new_team</th>\n    </tr>\n  </thead>\n  <tbody>\n    <tr>\n      <th>55</th>\n      <td>False</td>\n      <td>False</td>\n      <td>2022-01-23</td>\n      <td>Arsenal</td>\n      <td>Burnley</td>\n      <td>D</td>\n      <td>Arsenal</td>\n    </tr>\n    <tr>\n      <th>56</th>\n      <td>True</td>\n      <td>False</td>\n      <td>2022-02-10</td>\n      <td>Arsenal</td>\n      <td>Wolves</td>\n      <td>W</td>\n      <td>Arsenal</td>\n    </tr>\n    <tr>\n      <th>57</th>\n      <td>True</td>\n      <td>False</td>\n      <td>2022-02-19</td>\n      <td>Arsenal</td>\n      <td>Brentford</td>\n      <td>W</td>\n      <td>Arsenal</td>\n    </tr>\n    <tr>\n      <th>58</th>\n      <td>True</td>\n      <td>True</td>\n      <td>2022-02-24</td>\n      <td>Arsenal</td>\n      <td>Wolves</td>\n      <td>W</td>\n      <td>Arsenal</td>\n    </tr>\n    <tr>\n      <th>59</th>\n      <td>True</td>\n      <td>True</td>\n      <td>2022-03-06</td>\n      <td>Arsenal</td>\n      <td>Watford</td>\n      <td>W</td>\n      <td>Arsenal</td>\n    </tr>\n    <tr>\n      <th>...</th>\n      <td>...</td>\n      <td>...</td>\n      <td>...</td>\n      <td>...</td>\n      <td>...</td>\n      <td>...</td>\n      <td>...</td>\n    </tr>\n    <tr>\n      <th>1312</th>\n      <td>True</td>\n      <td>False</td>\n      <td>2022-03-13</td>\n      <td>Wolverhampton Wanderers</td>\n      <td>Everton</td>\n      <td>W</td>\n      <td>Wolves</td>\n    </tr>\n    <tr>\n      <th>1313</th>\n      <td>False</td>\n      <td>False</td>\n      <td>2022-03-18</td>\n      <td>Wolverhampton Wanderers</td>\n      <td>Leeds United</td>\n      <td>L</td>\n      <td>Wolves</td>\n    </tr>\n    <tr>\n      <th>1314</th>\n      <td>True</td>\n      <td>False</td>\n      <td>2022-04-02</td>\n      <td>Wolverhampton Wanderers</td>\n      <td>Aston Villa</td>\n      <td>W</td>\n      <td>Wolves</td>\n    </tr>\n    <tr>\n      <th>1315</th>\n      <td>False</td>\n      <td>False</td>\n      <td>2022-04-08</td>\n      <td>Wolverhampton Wanderers</td>\n      <td>Newcastle Utd</td>\n      <td>L</td>\n      <td>Wolves</td>\n    </tr>\n    <tr>\n      <th>1316</th>\n      <td>False</td>\n      <td>False</td>\n      <td>2022-04-24</td>\n      <td>Wolverhampton Wanderers</td>\n      <td>Burnley</td>\n      <td>L</td>\n      <td>Wolves</td>\n    </tr>\n  </tbody>\n</table>\n<p>276 rows × 7 columns</p>\n</div>"
          },
          "metadata": {}
        }
      ],
      "execution_count": 57
    },
    {
      "cell_type": "code",
      "source": "#now we can use new_team column to merge the dataframe",
      "metadata": {
        "trusted": true
      },
      "outputs": [],
      "execution_count": 58
    },
    {
      "cell_type": "code",
      "source": "merged = combined.merge(combined, left_on=[\"date\", \"new_team\"], right_on=[\"date\", \"opponent\"])",
      "metadata": {
        "trusted": true
      },
      "outputs": [],
      "execution_count": 59
    },
    {
      "cell_type": "code",
      "source": "merged[(merged[\"predicted_x\"] == False) & (merged[\"predicted_y\"] == True)][\"actual_x\"].value_counts()",
      "metadata": {
        "trusted": true
      },
      "outputs": [
        {
          "execution_count": 60,
          "output_type": "execute_result",
          "data": {
            "text/plain": "actual_x\nFalse    26\nTrue      6\nName: count, dtype: int64"
          },
          "metadata": {}
        }
      ],
      "execution_count": 60
    },
    {
      "cell_type": "code",
      "source": "#merged = combined.merge(combined, left_on=[\"date\",\"new_team\"], right_on=[\"date\",\"opponent\"]) #merging the dataframe with itself, or just matching the columns together",
      "metadata": {
        "trusted": true
      },
      "outputs": [],
      "execution_count": 61
    },
    {
      "cell_type": "code",
      "source": "merged",
      "metadata": {
        "trusted": true
      },
      "outputs": [
        {
          "execution_count": 62,
          "output_type": "execute_result",
          "data": {
            "text/plain": "     actual_x  predicted_x       date                   team_x     opponent_x  \\\n0       False        False 2022-01-23                  Arsenal        Burnley   \n1        True        False 2022-02-10                  Arsenal         Wolves   \n2        True        False 2022-02-19                  Arsenal      Brentford   \n3        True         True 2022-02-24                  Arsenal         Wolves   \n4        True         True 2022-03-06                  Arsenal        Watford   \n..        ...          ...        ...                      ...            ...   \n197      True        False 2022-03-13  Wolverhampton Wanderers        Everton   \n198     False        False 2022-03-18  Wolverhampton Wanderers   Leeds United   \n199      True        False 2022-04-02  Wolverhampton Wanderers    Aston Villa   \n200     False        False 2022-04-08  Wolverhampton Wanderers  Newcastle Utd   \n201     False        False 2022-04-24  Wolverhampton Wanderers        Burnley   \n\n    result_x new_team_x  actual_y  predicted_y                   team_y  \\\n0          D    Arsenal     False        False                  Burnley   \n1          W    Arsenal     False        False  Wolverhampton Wanderers   \n2          W    Arsenal     False        False                Brentford   \n3          W    Arsenal     False        False  Wolverhampton Wanderers   \n4          W    Arsenal     False        False                  Watford   \n..       ...        ...       ...          ...                      ...   \n197        W     Wolves     False        False                  Everton   \n198        L     Wolves      True        False             Leeds United   \n199        W     Wolves     False        False              Aston Villa   \n200        L     Wolves      True        False         Newcastle United   \n201        L     Wolves      True        False                  Burnley   \n\n    opponent_y result_y        new_team_y  \n0      Arsenal        D           Burnley  \n1      Arsenal        L            Wolves  \n2      Arsenal        L         Brentford  \n3      Arsenal        L            Wolves  \n4      Arsenal        L           Watford  \n..         ...      ...               ...  \n197     Wolves        L           Everton  \n198     Wolves        W      Leeds United  \n199     Wolves        L       Aston Villa  \n200     Wolves        W  Newcastle United  \n201     Wolves        W           Burnley  \n\n[202 rows x 13 columns]",
            "text/html": "<div>\n<style scoped>\n    .dataframe tbody tr th:only-of-type {\n        vertical-align: middle;\n    }\n\n    .dataframe tbody tr th {\n        vertical-align: top;\n    }\n\n    .dataframe thead th {\n        text-align: right;\n    }\n</style>\n<table border=\"1\" class=\"dataframe\">\n  <thead>\n    <tr style=\"text-align: right;\">\n      <th></th>\n      <th>actual_x</th>\n      <th>predicted_x</th>\n      <th>date</th>\n      <th>team_x</th>\n      <th>opponent_x</th>\n      <th>result_x</th>\n      <th>new_team_x</th>\n      <th>actual_y</th>\n      <th>predicted_y</th>\n      <th>team_y</th>\n      <th>opponent_y</th>\n      <th>result_y</th>\n      <th>new_team_y</th>\n    </tr>\n  </thead>\n  <tbody>\n    <tr>\n      <th>0</th>\n      <td>False</td>\n      <td>False</td>\n      <td>2022-01-23</td>\n      <td>Arsenal</td>\n      <td>Burnley</td>\n      <td>D</td>\n      <td>Arsenal</td>\n      <td>False</td>\n      <td>False</td>\n      <td>Burnley</td>\n      <td>Arsenal</td>\n      <td>D</td>\n      <td>Burnley</td>\n    </tr>\n    <tr>\n      <th>1</th>\n      <td>True</td>\n      <td>False</td>\n      <td>2022-02-10</td>\n      <td>Arsenal</td>\n      <td>Wolves</td>\n      <td>W</td>\n      <td>Arsenal</td>\n      <td>False</td>\n      <td>False</td>\n      <td>Wolverhampton Wanderers</td>\n      <td>Arsenal</td>\n      <td>L</td>\n      <td>Wolves</td>\n    </tr>\n    <tr>\n      <th>2</th>\n      <td>True</td>\n      <td>False</td>\n      <td>2022-02-19</td>\n      <td>Arsenal</td>\n      <td>Brentford</td>\n      <td>W</td>\n      <td>Arsenal</td>\n      <td>False</td>\n      <td>False</td>\n      <td>Brentford</td>\n      <td>Arsenal</td>\n      <td>L</td>\n      <td>Brentford</td>\n    </tr>\n    <tr>\n      <th>3</th>\n      <td>True</td>\n      <td>True</td>\n      <td>2022-02-24</td>\n      <td>Arsenal</td>\n      <td>Wolves</td>\n      <td>W</td>\n      <td>Arsenal</td>\n      <td>False</td>\n      <td>False</td>\n      <td>Wolverhampton Wanderers</td>\n      <td>Arsenal</td>\n      <td>L</td>\n      <td>Wolves</td>\n    </tr>\n    <tr>\n      <th>4</th>\n      <td>True</td>\n      <td>True</td>\n      <td>2022-03-06</td>\n      <td>Arsenal</td>\n      <td>Watford</td>\n      <td>W</td>\n      <td>Arsenal</td>\n      <td>False</td>\n      <td>False</td>\n      <td>Watford</td>\n      <td>Arsenal</td>\n      <td>L</td>\n      <td>Watford</td>\n    </tr>\n    <tr>\n      <th>...</th>\n      <td>...</td>\n      <td>...</td>\n      <td>...</td>\n      <td>...</td>\n      <td>...</td>\n      <td>...</td>\n      <td>...</td>\n      <td>...</td>\n      <td>...</td>\n      <td>...</td>\n      <td>...</td>\n      <td>...</td>\n      <td>...</td>\n    </tr>\n    <tr>\n      <th>197</th>\n      <td>True</td>\n      <td>False</td>\n      <td>2022-03-13</td>\n      <td>Wolverhampton Wanderers</td>\n      <td>Everton</td>\n      <td>W</td>\n      <td>Wolves</td>\n      <td>False</td>\n      <td>False</td>\n      <td>Everton</td>\n      <td>Wolves</td>\n      <td>L</td>\n      <td>Everton</td>\n    </tr>\n    <tr>\n      <th>198</th>\n      <td>False</td>\n      <td>False</td>\n      <td>2022-03-18</td>\n      <td>Wolverhampton Wanderers</td>\n      <td>Leeds United</td>\n      <td>L</td>\n      <td>Wolves</td>\n      <td>True</td>\n      <td>False</td>\n      <td>Leeds United</td>\n      <td>Wolves</td>\n      <td>W</td>\n      <td>Leeds United</td>\n    </tr>\n    <tr>\n      <th>199</th>\n      <td>True</td>\n      <td>False</td>\n      <td>2022-04-02</td>\n      <td>Wolverhampton Wanderers</td>\n      <td>Aston Villa</td>\n      <td>W</td>\n      <td>Wolves</td>\n      <td>False</td>\n      <td>False</td>\n      <td>Aston Villa</td>\n      <td>Wolves</td>\n      <td>L</td>\n      <td>Aston Villa</td>\n    </tr>\n    <tr>\n      <th>200</th>\n      <td>False</td>\n      <td>False</td>\n      <td>2022-04-08</td>\n      <td>Wolverhampton Wanderers</td>\n      <td>Newcastle Utd</td>\n      <td>L</td>\n      <td>Wolves</td>\n      <td>True</td>\n      <td>False</td>\n      <td>Newcastle United</td>\n      <td>Wolves</td>\n      <td>W</td>\n      <td>Newcastle United</td>\n    </tr>\n    <tr>\n      <th>201</th>\n      <td>False</td>\n      <td>False</td>\n      <td>2022-04-24</td>\n      <td>Wolverhampton Wanderers</td>\n      <td>Burnley</td>\n      <td>L</td>\n      <td>Wolves</td>\n      <td>True</td>\n      <td>False</td>\n      <td>Burnley</td>\n      <td>Wolves</td>\n      <td>W</td>\n      <td>Burnley</td>\n    </tr>\n  </tbody>\n</table>\n<p>202 rows × 13 columns</p>\n</div>"
          },
          "metadata": {}
        }
      ],
      "execution_count": 62
    },
    {
      "cell_type": "code",
      "source": "26/32",
      "metadata": {
        "trusted": true
      },
      "outputs": [
        {
          "execution_count": 63,
          "output_type": "execute_result",
          "data": {
            "text/plain": "0.8125"
          },
          "metadata": {}
        }
      ],
      "execution_count": 63
    },
    {
      "cell_type": "code",
      "source": "",
      "metadata": {
        "trusted": true
      },
      "outputs": [],
      "execution_count": null
    },
    {
      "cell_type": "code",
      "source": "",
      "metadata": {
        "trusted": true
      },
      "outputs": [],
      "execution_count": null
    }
  ]
}